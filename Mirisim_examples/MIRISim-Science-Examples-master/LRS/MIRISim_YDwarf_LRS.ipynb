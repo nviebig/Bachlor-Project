{
 "cells": [
  {
   "cell_type": "markdown",
   "metadata": {},
   "source": [
    "#  Y Dwarf:  MIRISim (LRS slit)\n",
    "\n",
    "#### This notebook replicates the MIRI LRS slit spectroscopy part of the Y Dwarfs JWST GTO programme (#1189) led by Thomas Roellig. \n",
    "\n",
    "**Science Objective:** \n",
    "The main science goals of this project are to study Y dwarfs cool atmospheres to obtain information about the\n",
    "composition and temperature-pressure structure in these objects' atmospheres.\n",
    "For this goal, we require high contrast spectroscopy using the fixed slit capabilities of MIRI.    \n",
    "    \n",
    "**In this notebook**, we create a scene with a point source representing the Y dwarf, add a model atmosphere for its spectral energy distribution (SED), and run through a MIRISim simulation showing the products created at each stage.\n",
    "\n",
    "**NOTE** this notebook must be started within  the correct anaconda environment in which you have MIRISim installed. This is a prerequisite for using MIRISim, and installation instructions can be found [here](http://miri.ster.kuleuven.be/bin/view/Public/MiricleInstallation).\n",
    "\n",
    "When launching the notebook, make sure in the right Anaconda environment. i.e. type\n",
    "\n",
    "<code> source activate miricle </code> \n",
    "\n",
    "in the terminal before starting the notebook.\n",
    "\n",
    "### Steps in this notebook:\n",
    "\n",
    "0. Import useful python packages\n",
    "1. Create a Scene\n",
    "2. Initialise the simulation parameters\n",
    "3. Run the simulation\n",
    "4. Examine some of the outputs.  "
   ]
  },
  {
   "cell_type": "markdown",
   "metadata": {},
   "source": [
    "## Step 0 - Some general python housekeeping\n",
    "### Import useful python packages"
   ]
  },
  {
   "cell_type": "code",
   "execution_count": 3,
   "metadata": {},
   "outputs": [],
   "source": [
    "import os\n",
    "\n",
    "location_of_cdbs = \"/Users/niklasviebig/Desktop/Python/JWST_semester_project/trds\"\n",
    "os.environ['PYSYN_CDBS'] = location_of_cdbs\n",
    "# End section\n",
    " \n",
    "# The following section is only needed if the pandeia_refdata environment variable is not already set\n",
    "# The pandeia_refdata environment variable should point to the path of the pandeia reference data\n",
    "location_of_pandeia_refdata = \"/Users/niklasviebig/Desktop/Python/JWST_semester_project/pandeia_data-1.7\"\n",
    "os.environ['pandeia_refdata'] = location_of_pandeia_refdata\n",
    "# Import usefull python packages\n",
    "import numpy as np\n",
    "import glob                 # glob is used to find the output directory\n",
    "import os                   # for listing directory contents\n",
    "from astropy.io import fits # for reading FITS file contents\n",
    "\n",
    "# Import python packages used to display images inline in the notebook\n",
    "import matplotlib.pyplot as plt    \n",
    "from matplotlib import colors,cm\n",
    "%matplotlib inline       \n",
    "\n",
    "######################################\n",
    "# Now import MIRISim specific packages \n",
    "\n",
    "# import the configuration file parsers so they can be written to file\n",
    "from mirisim.config_parser import SimConfig, SimulatorConfig, SceneConfig\n",
    "\n",
    "# import scene component generators\n",
    "from mirisim.skysim import Background, sed, Point, Galaxy, kinetics, ExternalSed\n",
    "from mirisim.skysim import wrap_pysynphot as wS\n",
    "\n",
    "from mirisim import MiriSimulation         "
   ]
  },
  {
   "cell_type": "markdown",
   "metadata": {},
   "source": [
    "### Define some common functions \n",
    "\n",
    "1) <code>save_to_fits</code> - Used to save the generated scene to a fits file\n",
    "\n",
    "2) <code>show_outputs</code> - Used in ploting outputs from MIRISim\n",
    "\n",
    "3) <code>row_based_idx</code> - Used to fill matplotlib subplots by column, not row\n",
    "\n",
    "4) <code>show_skycubes_spec</code> - Used to plot the spectum in datacubes gernerated by MIRISim"
   ]
  },
  {
   "cell_type": "code",
   "execution_count": 4,
   "metadata": {},
   "outputs": [],
   "source": [
    "def save_to_fits(scene, light_path, filename='MIRISim_scene.fits', SpatialSampling=0.1, WavelengthRange=None, \n",
    "                 WavelengthSampling=0.01):\n",
    "    \"\"\"\n",
    "    Function to save the MIRISim scene to a fits file.\n",
    "    \n",
    "    :param filename: Name of file to save - default is \"MIRISim_scene.fits\"\n",
    "    :type filename: string       \n",
    "    \n",
    "    :param SpatialSampling: Spatial sampling (in arcsec) - default is 0.1 arcseconds\n",
    "    :type SpatialSampling: float\n",
    "    \n",
    "    :param WavelengthRange: Wavelength range to process (in microns) - default is [5, 28] microns\n",
    "    :type WavelengthRange: array\n",
    "    \n",
    "    :param WavelengthSampling: Channel width (in microns) - default is 0.1 arcseconds\n",
    "    :type WavelengthSampling: float\n",
    "    \n",
    "    :rtype: None\n",
    "    :raises Exception: when light_path parameter not set to MRS or IMA\n",
    "    \"\"\"\n",
    "    \n",
    "    # Avoids array being extended inside function for mutliple calls. Python gotcha\n",
    "    if WavelengthRange is None:\n",
    "        WavelengthRange = [5, 28]\n",
    "        \n",
    "    if light_path == 'IMA':\n",
    "        # IMA Field of view [xmin,xmax],[ymin,ymax] [arcsec]\n",
    "        FOV = np.array([[-57., 57.],[-57., 57.]])   \n",
    "    elif light_path == \"MRS\":\n",
    "        # MRS Field of view [xmin,xmax],[ymin,ymax] [arcsec]\n",
    "        FOV = np.array([[-4., 4.],[-4., 4.]])       \n",
    "    else:\n",
    "        raise Exception('Acceptable inputs for parameter light_path are [IMA] and [MRS]')\n",
    "    \n",
    "    # overwrite = True enables overwriting of any previous version of the fits file\n",
    "    # with the same name as that given in the writecube command\n",
    "    scene.writecube(cubefits = filename,\n",
    "                    FOV = FOV, time = 0.0,\n",
    "                    spatsampling = SpatialSampling,\n",
    "                    wrange = WavelengthRange,\n",
    "                    wsampling = WavelengthSampling,\n",
    "                    overwrite = True) "
   ]
  },
  {
   "cell_type": "code",
   "execution_count": 5,
   "metadata": {},
   "outputs": [],
   "source": [
    "def show_outputs(MIRISim_outputdir,output_type):\n",
    "    \"\"\"\n",
    "    Plot the specified channel of the MIRISim outputs\n",
    "    :param MIRISim_outputdir:  \n",
    "        name of the date-labelled dir. holding the MIRISIM outputs\n",
    "    :param output_type: \n",
    "        type of output to process \n",
    "        (e.g. illum_models, det_images or skycubes)\n",
    "    \"\"\"\n",
    "    \n",
    "    infits = glob.glob('{}/{}/*.fits'.format(MIRISim_outputdir,output_type))[0]\n",
    "    \n",
    "    hdulist = fits.open(infits)\n",
    "    \n",
    "    if output_type.lower() == 'skycubes': \n",
    "        hdu_index = 0\n",
    "        datashape = hdulist[hdu_index].data.shape\n",
    "        central_chan = datashape[0]//2\n",
    "        \n",
    "        plt.imshow(hdulist[hdu_index].data[central_chan,:,:],\n",
    "           origin = 'lower', interpolation = 'nearest',cmap = cm.viridis)\n",
    "        plt.title('channel {} of {}'.format(central_chan,infits.split('/')[-1]))\n",
    "        plt.xlabel(hdulist[hdu_index].header['ctype1'])\n",
    "        plt.ylabel(hdulist[hdu_index].header['ctype2'])\n",
    "    else:\n",
    "        hdu_index = 1\n",
    "        if len(hdulist[hdu_index].data.shape) > 2:\n",
    "            integ,frames,nx,ny = hdulist[hdu_index].data.shape\n",
    "            image = hdulist[hdu_index].data[integ-1,frames-1,:,:]\n",
    "        else:\n",
    "            image = hdulist[hdu_index].data\n",
    "            \n",
    "        \n",
    "        plt.imshow(image, origin = 'lower',cmap = cm.viridis,interpolation='nearest')\n",
    "        plt.title('{}'.format(infits.split('/')[-1]))\n",
    "        plt.xlabel('Along Slice Direction')\n",
    "        plt.ylabel('Wavelength Direction')\n",
    "\n",
    "    plt.colorbar()"
   ]
  },
  {
   "cell_type": "code",
   "execution_count": 6,
   "metadata": {},
   "outputs": [],
   "source": [
    "def row_based_idx(num_rows, num_cols, idx):\n",
    "    \"\"\"\n",
    "    Function to fill matplotlib subplots by column, not row\n",
    "    \"\"\"\n",
    "    return np.arange(1, num_rows*num_cols + 1).reshape((num_rows, num_cols)).transpose().flatten()[idx-1]"
   ]
  },
  {
   "cell_type": "code",
   "execution_count": 7,
   "metadata": {},
   "outputs": [],
   "source": [
    "def show_skycubes_spec(directory_list):\n",
    "    \"\"\"\n",
    "    Plots the average MIRISim spectra for each FOV from the 12 skycubes generated from \n",
    "    the Short, Medium and Long dispersers\n",
    "    :param directory_list:  \n",
    "        List containing the three output directories for MRS simulation results\n",
    "    \"\"\"    \n",
    "    \n",
    "    # Define subplot grid for the MRS skycubes\n",
    "    num_cols = 3 \n",
    "    num_rows = 4             \n",
    "\n",
    "    maxfigs = 12\n",
    "    fig = plt.figure(figsize=(10,3*num_rows))\n",
    "    i=0\n",
    "\n",
    "    for num, outputdir in enumerate(directory_list):\n",
    "        outputDirContents = os.listdir(outputdir)\n",
    "\n",
    "        directories = [name for name in outputDirContents if os.path.isdir(os.path.join(outputdir,name))]\n",
    "\n",
    "        filenames_skycube = glob.glob('{}/{}/*.fits'.format(outputdir,'skycubes')) # Get skycube file\n",
    "\n",
    "        for skycube_file in filenames_skycube:\n",
    "\n",
    "            hdu = fits.open(skycube_file)        # Open file \n",
    "            data_cube = hdu[0].data              # Get data \n",
    "            #datashape = hdu[0].data.shape       # Get data shape - Z, X, Y  \n",
    "\n",
    "            # Get the wavelength data \n",
    "            wav =  hdu[1].data\n",
    "\n",
    "            # Find the max and min wavelelgths for the output cube\n",
    "            vmin = wav[0]\n",
    "            vmax = wav[-1]       \n",
    "            #print(np.round(vmin,2), np.round(vmax,2))\n",
    "\n",
    "            # Get the flux data from an average of the cube\n",
    "            spectrum = data_cube.mean(axis=(1, 2))  \n",
    "\n",
    "            # Plot the spectrum - Each colum = short, medium, long\n",
    "            plt.subplot(num_rows, num_cols, row_based_idx(num_rows, num_cols,i+1))\n",
    "            plt.plot(wav, spectrum)                                       \n",
    "            #plt.xticks([])  # help clean up the plot\n",
    "            plt.yticks([])   # help clean up the plot \n",
    "            i+=1    \n",
    "\n",
    "    fig.add_subplot(111, frame_on=False)\n",
    "\n",
    "    plt.tick_params(labelcolor=\"none\", bottom=False, left=False)\n",
    "    plt.xlabel(\"Wavelength (microns)\", fontsize=14)\n",
    "    plt.ylabel(\"Flux (data units)\", fontsize=14)\n",
    "\n",
    "    fig.suptitle('    Short                           Medium                           Long', y=1.02, fontsize=18)\n",
    "\n",
    "    fig.tight_layout()\n",
    "\n",
    "    plt.show()\n",
    "    plt.close()    "
   ]
  },
  {
   "cell_type": "markdown",
   "metadata": {},
   "source": [
    "### Set flags for saving the MIRISim scene to a fits file - default is False \n",
    "\n",
    "We select false as the default as 1) a fits file of the scene is not necessary to run mirisim; 2) this step can take a long time to run; 3) once a scene has been saved as a fits file one this step is not necessary."
   ]
  },
  {
   "cell_type": "code",
   "execution_count": 8,
   "metadata": {},
   "outputs": [],
   "source": [
    "save_scene_as_fits = False"
   ]
  },
  {
   "cell_type": "markdown",
   "metadata": {},
   "source": [
    "## Step 1 - Create a Scene - this represents your science observation\n",
    "\n",
    "Each scene should include at minimum: 1) A background level; 2) A science source\n",
    "\n",
    "The scene created below consists of a low level background, a point source representing the Y dwarf. "
   ]
  },
  {
   "cell_type": "markdown",
   "metadata": {},
   "source": [
    "### Create a low level background for the scene"
   ]
  },
  {
   "cell_type": "code",
   "execution_count": 9,
   "metadata": {},
   "outputs": [
    {
     "name": "stderr",
     "output_type": "stream",
     "text": [
      "2022-04-25 11:18:06,469 - INFO - Initializing Background\n"
     ]
    }
   ],
   "source": [
    "bg = Background(level='low',gradient=1., pa=5.)"
   ]
  },
  {
   "cell_type": "markdown",
   "metadata": {},
   "source": [
    "### Create the Y Dwarf instance\n",
    "\n",
    "#### 1) First import the Y Dwarf SED from an external file\n",
    "\n",
    "Here the Y dwarf SED is taken from the T/Y dwarf models by Morler et al. 2014.  The specific model used here has T=450K, log g= 4.5, h = 0.5, f_sed=5, and scaled in brightness to replicate the JWST ETC and APT tutorial produced for the ESA JWST Masterclass by S. Kendrew. "
   ]
  },
  {
   "cell_type": "code",
   "execution_count": 10,
   "metadata": {},
   "outputs": [
    {
     "data": {
      "image/png": "[encoded data removed]",
      "text/plain": [
       "<Figure size 432x288 with 1 Axes>"
      ]
     },
     "metadata": {
      "needs_background": "light"
     },
     "output_type": "display_data"
    }
   ],
   "source": [
    "# Use: sedfile =  ExternalSed('extsed.txt') # filepath, columns 'wavelength' [microns] and 'flux' [muJy]\n",
    "ydwarf_sed = ExternalSed(sedfile = 'morley_ydwarf_mirisim.txt') \n",
    "\n",
    "# For zooming in on spectral ranges\n",
    "l_min = 5 #micron\n",
    "l_max = 14 #micron\n",
    "sp_min = np.abs(ydwarf_sed.Lam-l_min).argmin()\n",
    "sp_max = np.abs(ydwarf_sed.Lam-l_max).argmin()\n",
    "\n",
    "# Plot the spectrum of the Y dwarf for reference\n",
    "fig = plt.figure(figsize=(8, 6))\n",
    "ax = plt.subplots()[1]  \n",
    "ax.plot(ydwarf_sed.Lam[sp_min:sp_max], ydwarf_sed.fLam[sp_min:sp_max])   \n",
    "ax.set_xlabel(\"Wavelength (microns)\")  \n",
    "ax.set_ylabel(\"Flux ($\\mu$Jy)\")  \n",
    "ax.set_title(\"External SED of the Y Dwarf\")  \n",
    "plt.close(fig)"
   ]
  },
  {
   "cell_type": "markdown",
   "metadata": {},
   "source": [
    "### 2) Initialize a Y Dwarf object - located in the LRS slit.  \n",
    "\n",
    "In this example we are assuming the Y dwarf is a point source."
   ]
  },
  {
   "cell_type": "code",
   "execution_count": 11,
   "metadata": {},
   "outputs": [
    {
     "name": "stderr",
     "output_type": "stream",
     "text": [
      "2022-04-25 11:18:08,302 - INFO - Initializing Point\n"
     ]
    }
   ],
   "source": [
    "# Create a single point source\n",
    "ydwarf_slit_ps = Point(Cen=[0,0])"
   ]
  },
  {
   "cell_type": "markdown",
   "metadata": {},
   "source": [
    "### 3) Then attach the SED to an object  "
   ]
  },
  {
   "cell_type": "code",
   "execution_count": 12,
   "metadata": {},
   "outputs": [],
   "source": [
    "# Attached the SED\n",
    "ydwarf_slit_ps.set_SED(ydwarf_sed)\n",
    "                       \n",
    "# Add created pointsource to the compound target list called 'stars' for creating a scene\n",
    "slit_star = ydwarf_slit_ps\n",
    "\n",
    "# For writing to scene.ini file\n",
    "targetlist = [slit_star]"
   ]
  },
  {
   "cell_type": "markdown",
   "metadata": {},
   "source": [
    "### From the components, create a scene\n",
    "\n",
    "To create a scene adding together the background and target"
   ]
  },
  {
   "cell_type": "code",
   "execution_count": 13,
   "metadata": {},
   "outputs": [],
   "source": [
    "scene = bg +  slit_star"
   ]
  },
  {
   "cell_type": "markdown",
   "metadata": {},
   "source": [
    "### Export the scene to an ini file and FITS file (optional)\n",
    "\n",
    "Export scene to an ini file (for future use), or a FITS file to be visualised. This stage is not necessary if running mirisim in a notebook.\n",
    "\n",
    "Exporting to a FITS file requires specifying a number of additional parameters such as the Field of view, required spectral sampling, etc. They're described in more detail below. For large fields of view, and/or small spectral channels, which create large FITS files, writing to a FITS file can take a while (few minutes)\n"
   ]
  },
  {
   "cell_type": "code",
   "execution_count": 14,
   "metadata": {},
   "outputs": [],
   "source": [
    "# Used to run MIRISim within notebook\n",
    "scene_config = SceneConfig.makeScene(loglevel=0,\n",
    "                                    background=bg,\n",
    "                                    targets = targetlist)\n",
    "\n",
    "# Export to ini file - not necessary if runing mirisim in notebook\n",
    "os.system('rm -fr LRS_YDwarf_scene.ini')      # Remove previous version of .ini file\n",
    "scene_config.write('LRS_YDwarf_scene.ini')"
   ]
  },
  {
   "cell_type": "markdown",
   "metadata": {},
   "source": [
    "##### OPTIONAL - Save the generated scene to a fits file - Note this step can take a long time depending on the chosen parameters"
   ]
  },
  {
   "cell_type": "code",
   "execution_count": 15,
   "metadata": {},
   "outputs": [],
   "source": [
    "# Export to FITS file - Optional \n",
    "if save_scene_as_fits == True:\n",
    "    save_to_fits(scene, light_path=\"LRS\", filename='MIRISim_scene.fits')"
   ]
  },
  {
   "cell_type": "markdown",
   "metadata": {},
   "source": [
    "## Initialize the LRS Simulation Parameters\n",
    "\n",
    "This is where the parameters for the LRS simulation get set.  These should be set to match the desired MIRI LRS observation setup. \n",
    "\n",
    "**Note** MIRISim must have parameters set for all light paths in <code>SimConfig.makeSim</code> this includes some parameters not relevant to the MRS simulation defined in this file. Those relevant not being used in this simulation are labeled with <code> NOT USED HERE </code> in the comments of each line **and should not be deleted**.\n",
    "\n",
    "### Y Dwarf LRS observation set up:\n",
    "\n",
    "Here we want to simulate a spectrum covering the LRS wavelength range.  \n",
    "\n",
    "1. Dither = 2pt \n",
    "2. Read out mode = <code>FAST</code> selected based on best practices. \n",
    "\n",
    "####  Groups - Integrations\n",
    "120 groups and 10 integrations\n",
    "\n",
    "To modify this simulation for other observation setups the following parameters in sim_config should be changed:\n",
    "\n",
    "1) <code>ima_frames</code>\n",
    "2) <code>ima_integrations</code>\n",
    "3) <code>ima_exposures</code>"
   ]
  },
  {
   "cell_type": "code",
   "execution_count": 16,
   "metadata": {},
   "outputs": [],
   "source": [
    "sim_config = SimConfig.makeSim(\n",
    "    name = 'MIRI_LRSslit_dither_YDwarf',    # name given to simulation\n",
    "    scene = 'LRS_YDwarf_scene.ini',         # name of scene file to input\n",
    "    rel_obsdate = 1.0,                      # relative observation date (0 = launch, 1 = end of 5 yrs)\n",
    "    \n",
    "    POP = 'IMA',                        # Component on which to center (Imager or MRS)\n",
    "    ConfigPath = 'LRS_SLIT',            # Configure the Optical path \n",
    "    \n",
    "    Dither = True,                      # Nod along the slit\n",
    "    StartInd = 1,                       # start index for dither pattern \n",
    "    NDither = 2,                        # number of dither positions \n",
    "    DitherPat = 'lrs_recommended_dither.dat', # dither pattern to use\n",
    "    \n",
    "\n",
    "    ima_exposures = 1,            # number of exposures\n",
    "    ima_integrations = 10,        # number of integrations\n",
    "    ima_frames = 120,             # number of groups (for MIRI, # Groups = # Frames)\n",
    "    ima_mode = 'FAST',            # Imager read mode (default is FAST ~ 2.3 s)\n",
    "    filter = 'P750L',             # Imager Filter to use\n",
    "    readDetect = 'FULL',          # Portion of detector to read out\n",
    "    \n",
    "    disperser = 'SHORT',        # [NOT USED HERE]\n",
    "    detector = 'SW',            # [NOT USED HERE]\n",
    "    mrs_mode = 'SLOW',          # [NOT USED HERE]\n",
    "    mrs_exposures = 10,         # [NOT USED HERE]\n",
    "    mrs_integrations = 3,       # [NOT USED HERE]\n",
    "    mrs_frames = 10             # [NOT USED HERE]\n",
    "    \n",
    ")"
   ]
  },
  {
   "cell_type": "markdown",
   "metadata": {},
   "source": [
    "### Optional: Export the simulation setup to a file\n",
    "\n",
    "Not necessary as saved in mirisim output in the date stamped output directory. Included here as naming each file explicitly for record keeping.  "
   ]
  },
  {
   "cell_type": "code",
   "execution_count": 17,
   "metadata": {},
   "outputs": [],
   "source": [
    "os.system('rm -fr MIRI_LRSslit_dither.ini')\n",
    "sim_config.write('MIRI_LRSslit_dither.ini')"
   ]
  },
  {
   "cell_type": "markdown",
   "metadata": {},
   "source": [
    "## Run the simulation\n",
    "\n",
    "Now that the scene and the setup of the simulation have been set, we can run the simulation.\n",
    "\n",
    "The last step is to setup the defaults for internal things like calibration data products (CDPs)."
   ]
  },
  {
   "cell_type": "code",
   "execution_count": 18,
   "metadata": {},
   "outputs": [],
   "source": [
    "# Get the simulation configuration perameters using the default setup\n",
    "simulator_config = SimulatorConfig.from_default()"
   ]
  },
  {
   "cell_type": "code",
   "execution_count": null,
   "metadata": {},
   "outputs": [
    {
     "name": "stderr",
     "output_type": "stream",
     "text": [
      "2022-04-25 11:18:08,526 - INFO - MIRISim version: 2.4.2\n",
      "2022-04-25 11:18:08,527 - INFO - MIRI Simulation started.\n",
      "2022-04-25 11:18:08,529 - INFO - Output will be saved to: 20220425_111808_mirisim\n",
      "2022-04-25 11:18:08,531 - INFO - Storing configs in output directory.\n",
      "2022-04-25 11:18:10,681 - INFO - Reading cosmic ray properties from parameter file /Users/niklasviebig/opt/anaconda3/envs/mirisim/lib/python3.9/site-packages/miri/simulators/scasim/cosmic_ray_properties.py\n",
      "2022-04-25 11:18:10,709 - INFO - Reading detector properties from parameter file /Users/niklasviebig/opt/anaconda3/envs/mirisim/lib/python3.9/site-packages/miri/simulators/scasim/detector_properties.py\n",
      "2022-04-25 11:18:10,851 - INFO - Storing dither pattern in output directory.\n",
      "2022-04-25 11:18:10,855 - WARNING - Environment variable CDP_DIR is not set. Will look up / store CDP files at ./CDP\n",
      "2022-04-25 11:18:10,861 - INFO - Setting up simulated Observation, with following settings:\n",
      "2022-04-25 11:18:10,869 - INFO - Configuration Path: LRS_SLIT\n",
      "2022-04-25 11:18:10,870 - INFO - Primary optical path: IMA\n",
      "2022-04-25 11:18:10,889 - INFO - IMA Filter: P750L\n",
      "2022-04-25 11:18:10,919 - INFO - IMA Subarray: FULL\n",
      "2022-04-25 11:18:10,922 - INFO - IMA detector readout mode: FAST\n",
      "2022-04-25 11:18:10,944 - INFO - IMA detector # exposures: 1\n",
      "2022-04-25 11:18:10,953 - INFO - IMA detector # integrations: 10\n",
      "2022-04-25 11:18:10,954 - INFO - IMA detector # frames: 120\n",
      "2022-04-25 11:18:10,974 - INFO - Parsing: Background\n",
      "2022-04-25 11:18:10,977 - INFO - Initializing Background\n",
      "2022-04-25 11:18:10,979 - INFO - Parsing: point_1\n",
      "2022-04-25 11:18:10,982 - INFO - Initializing Point\n",
      "2022-04-25 11:18:12,462 - INFO - Simulating dithered observation using pattern: lrs_recommended_dither.dat\n",
      "2022-04-25 11:18:12,468 - INFO - Number of dithers defined in dither pattern: 2\n",
      "2022-04-25 11:18:12,473 - INFO - Starting index of executed dither pattern: 1\n",
      "2022-04-25 11:18:12,475 - INFO - Number of executed dither positions: 2\n",
      "2022-04-25 11:18:15,713 - INFO -  Retrieving CDP file\n",
      "  from sftp 'www.miricle.org/.../MIRI_FM_MIRIMAGE_P750L_DISTORTION_07.02.00.fits'\n",
      "  to cache './CDP/MIRI_FM_MIRIMAGE_P750L_DISTORTION_07.02.00.fits' ...\n",
      "2022-04-25 11:18:16,076 - INFO - Reading 'DISTORTION' model from './CDP/MIRI_FM_MIRIMAGE_P750L_DISTORTION_07.02.00.fits'\n",
      "2022-04-25 11:18:20,432 - INFO -  Retrieving CDP file\n",
      "  from sftp 'www.miricle.org/.../MIRI_FM_MIRIMAGE_DISTORTION_07.04.01.fits'\n",
      "  to cache './CDP/MIRI_FM_MIRIMAGE_DISTORTION_07.04.01.fits' ...\n",
      "2022-04-25 11:18:20,871 - INFO - Reading 'DISTORTION' model from './CDP/MIRI_FM_MIRIMAGE_DISTORTION_07.04.01.fits'\n",
      "2022-04-25 11:18:21,206 - INFO - Reading 'DISTORTION' model from './CDP/MIRI_FM_MIRIMAGE_DISTORTION_07.04.01.fits'\n",
      "2022-04-25 11:18:21,679 - INFO - Reading 'DISTORTION' model from './CDP/MIRI_FM_MIRIMAGE_P750L_DISTORTION_07.02.00.fits'\n",
      "2022-04-25 11:18:21,916 - INFO - Creating pointing for position 1\n",
      "2022-04-25 11:18:21,917 - INFO - Creating exposure event for position 1\n",
      "2022-04-25 11:18:21,921 - INFO - Reading 'DISTORTION' model from './CDP/MIRI_FM_MIRIMAGE_P750L_DISTORTION_07.02.00.fits'\n",
      "2022-04-25 11:18:22,205 - INFO - Reading 'DISTORTION' model from './CDP/MIRI_FM_MIRIMAGE_DISTORTION_07.04.01.fits'\n",
      "2022-04-25 11:18:22,529 - INFO - Reading 'DISTORTION' model from './CDP/MIRI_FM_MIRIMAGE_P750L_DISTORTION_07.02.00.fits'\n",
      "2022-04-25 11:18:22,827 - INFO - Reading 'DISTORTION' model from './CDP/MIRI_FM_MIRIMAGE_DISTORTION_07.04.01.fits'\n",
      "2022-04-25 11:18:23,138 - INFO - Creating pointing for position 2\n",
      "2022-04-25 11:18:23,140 - INFO - Creating offset event before dither position 2\n",
      "2022-04-25 11:18:23,141 - INFO - Creating exposure event for position 2\n",
      "2022-04-25 11:18:23,143 - INFO - Reading 'DISTORTION' model from './CDP/MIRI_FM_MIRIMAGE_P750L_DISTORTION_07.02.00.fits'\n",
      "2022-04-25 11:18:23,304 - INFO - Reading 'DISTORTION' model from './CDP/MIRI_FM_MIRIMAGE_DISTORTION_07.04.01.fits'\n",
      "2022-04-25 11:18:23,630 - INFO - Reading 'DISTORTION' model from './CDP/MIRI_FM_MIRIMAGE_P750L_DISTORTION_07.02.00.fits'\n",
      "2022-04-25 11:18:23,772 - INFO - Reading 'DISTORTION' model from './CDP/MIRI_FM_MIRIMAGE_DISTORTION_07.04.01.fits'\n",
      "2022-04-25 11:18:24,062 - INFO - Observation simulation started.\n",
      "2022-04-25 11:18:24,063 - INFO - Simulating ExposureEvent for pointing 1\n",
      "2022-04-25 11:18:24,065 - INFO - Simulating Lrs exposures for pointing 1\n",
      "2022-04-25 11:18:24,066 - INFO - Simulating detector illumination for LRS exposures for pointing 1\n",
      "2022-04-25 11:18:24,068 - INFO - lrs simulator processing  cfgpath=LRS_SLIT\n",
      "2022-04-25 11:18:24,074 - INFO - lrssim takes CDP PSF\n",
      "2022-04-25 11:18:24,078 - INFO - Reading 'DISTORTION' model from './CDP/MIRI_FM_MIRIMAGE_P750L_DISTORTION_07.02.00.fits'\n",
      "2022-04-25 11:18:24,282 - INFO - use PHOTOM (SRF) CDP to convert flux\n",
      "2022-04-25 11:18:24,284 - INFO -  Retrieving CDP file\n",
      "  from sftp 'www.miricle.org/.../MIRI_FM_MIRIMAGE_P750L_PHOTOM_8B.03.01.fits'\n",
      "  to cache './CDP/MIRI_FM_MIRIMAGE_P750L_PHOTOM_8B.03.01.fits' ...\n",
      "2022-04-25 11:18:24,588 - INFO - Reading 'PHOTOM' model from './CDP/MIRI_FM_MIRIMAGE_P750L_PHOTOM_8B.03.01.fits'\n",
      "2022-04-25 11:18:24,769 - INFO -  Retrieving CDP file\n",
      "  from sftp 'www.miricle.org/.../MIRI_FM_MIRIMAGE_AREA_07.00.00.fits'\n",
      "  to cache './CDP/MIRI_FM_MIRIMAGE_AREA_07.00.00.fits' ...\n",
      "2022-04-25 11:18:25,471 - INFO - Reading 'AREA' model from './CDP/MIRI_FM_MIRIMAGE_AREA_07.00.00.fits'\n",
      "2022-04-25 11:18:25,697 - INFO - v2_ref= -415.069047, v3_ref=-400.575920 , v2_off=-0.937144, v3_off=0.077920, pa=0.000000\n",
      "2022-04-25 11:18:25,701 - INFO - Reading 'DISTORTION' model from './CDP/MIRI_FM_MIRIMAGE_DISTORTION_07.04.01.fits'\n",
      "2022-04-25 11:18:26,170 - INFO - Reading 'DISTORTION' model from './CDP/MIRI_FM_MIRIMAGE_P750L_DISTORTION_07.02.00.fits'\n",
      "2022-04-25 11:18:26,593 - INFO -  Retrieving CDP file\n",
      "  from sftp 'www.miricle.org/.../MIRI_FM_MIRIMAGE_P750L_PSF_07.04.00.fits'\n",
      "  to cache './CDP/MIRI_FM_MIRIMAGE_P750L_PSF_07.04.00.fits' ...\n",
      "2022-04-25 11:18:27,648 - INFO - Reading 'PSF' model from './CDP/MIRI_FM_MIRIMAGE_P750L_PSF_07.04.00.fits'\n",
      "2022-04-25 11:18:28,156 - INFO - Retrieving file for Lrs Array Mask: FocalPlaneMask\n",
      "2022-04-25 11:18:28,254 - INFO - 1 point sources in scene\n",
      "2022-04-25 11:18:28,255 - INFO - point source no: 0\n",
      "2022-04-25 11:18:28,257 - INFO - lrs simulator processing in get_point_int in mirisim.lrssim.lrs\n",
      "2022-04-25 11:18:28,343 - INFO - xcenter 316.631289327629\n",
      "2022-04-25 11:18:28,349 - INFO - ycenter 299.7200316877706\n",
      "2022-04-25 11:18:28,369 - INFO - xdiff -8.498710672370976\n",
      "2022-04-25 11:18:28,376 - INFO - ydiff 0.020031687770597273\n",
      "2022-04-25 11:18:28,582 - INFO - lrs simulator processing in get_extended_from_scene_lrs in mirisim.lrssim.lrs\n",
      "2022-04-25 11:18:28,583 - INFO - no extended sources in scene\n",
      "2022-04-25 11:18:28,584 - INFO - no extended sources are computed\n",
      "2022-04-25 11:18:28,588 - INFO - lrs simulator processing in extract_sky_cube in mirisim.lrssim.lrs\n",
      "2022-04-25 11:18:28,591 - INFO - no scenecube sources in scene\n",
      "2022-04-25 11:18:28,594 - INFO - no fits skyCube sources are computed\n",
      "2022-04-25 11:18:28,597 - INFO - lrs simulator processing in get_background_from_scene_lrs in mirisim.lrssim.lrs\n",
      "2022-04-25 11:18:28,600 - INFO - 1 backgrounds available in scene\n",
      "2022-04-25 11:18:30,026 - INFO - Wrote illumination model: 20220425_111808_mirisim/illum_models/illum_model_seq1_MIRIMAGE_P750L.fits\n",
      "2022-04-25 11:18:30,028 - INFO - Simulating integrated detector images for LRS exposures for pointing 1\n",
      "2022-04-25 11:18:30,031 - INFO - Simulating LRS exposure 1\n",
      "2022-04-25 11:18:30,056 - INFO - Running SCASim\n",
      "2022-04-25 11:18:30,060 - INFO - Simulating  detector readout for MIRIMAGE from illumination data model of shape (1024, 1032).\n",
      "2022-04-25 11:18:30,090 - INFO - Results will be returned in an exposure data model.\n",
      "2022-04-25 11:18:30,128 - INFO -   Detector readout mode is FAST (samplesum=1, sampleskip=0, nframe=1, groupgap=0) \n",
      "  with 10 integrations and ngroups=120 defined explicitly.\n",
      "  Detector subarray mode is FULL.\n",
      "2022-04-25 11:18:30,129 - INFO - Detector temperature = 6.70 K (which affects dark current and read noise).\n",
      "2022-04-25 11:18:30,131 - INFO - Cosmic ray environment is SOLAR_MIN.\n",
      "2022-04-25 11:18:30,148 - INFO - Reading cosmic ray library file: '/Users/niklasviebig/opt/anaconda3/envs/mirisim/lib/python3.9/site-packages/miri/simulators/data/cosmic_rays/CRs_SiAs_470_SUNMIN_08.fits'\n"
     ]
    },
    {
     "name": "stderr",
     "output_type": "stream",
     "text": [
      "2022-04-25 11:18:30,279 - INFO - Simulation control flags:\n",
      "\tQuantum efficiency simulation turned OFF.\n",
      "\tPoisson noise simulation turned ON.\n",
      "\tRead noise simulation turned ON.\n",
      "\tReference pixels simulation turned ON.\n",
      "\tBad pixels simulation turned ON.\n",
      "\tDark current simulation turned ON.\n",
      "\tFlat-field simulation turned ON.\n",
      "\tAmplifier bias and gain turned ON.\n",
      "\tDetector non-linearity effects turned ON.\n",
      "\tDetector drift effects turned ON.\n",
      "\tDetector latency effects turned ON.\n",
      "2022-04-25 11:18:30,281 - WARNING - ***Illumination map of size 1024 x 1032 is too large! Truncating to detector size of 1024 x 1024 pixels.\n",
      "2022-04-25 11:18:30,290 - INFO - Input subarray mode obtained from illumination map: FULL\n",
      "2022-04-25 11:18:30,292 - INFO - Detector properties translates input subarray FULL into None\n",
      "2022-04-25 11:18:30,293 - INFO - Creating a new detector object for 1024 rows x 1024 columns.\n",
      "2022-04-25 11:18:30,301 - INFO -  Retrieving CDP file\n",
      "  from sftp 'www.miricle.org/.../MIRI_FM_MIRIMAGE_MASK_07.02.01.fits'\n",
      "  to cache './CDP/MIRI_FM_MIRIMAGE_MASK_07.02.01.fits' ...\n",
      "2022-04-25 11:18:31,000 - INFO - Reading 'MASK' model from './CDP/MIRI_FM_MIRIMAGE_MASK_07.02.01.fits'\n",
      "2022-04-25 11:18:31,144 - INFO -  Retrieving CDP file\n",
      "  from sftp 'www.miricle.org/.../MIRI_FM_MIRIMAGE_GAIN_04.00.00.fits'\n",
      "  to cache './CDP/MIRI_FM_MIRIMAGE_GAIN_04.00.00.fits' ...\n",
      "2022-04-25 11:18:33,506 - INFO - Reading 'GAIN' model from './CDP/MIRI_FM_MIRIMAGE_GAIN_04.00.00.fits'\n",
      "2022-04-25 11:18:38,211 - INFO -  Retrieving CDP file\n",
      "  from sftp 'www.miricle.org/.../MIRI_FM_MIRIMAGE_FAST_DARK_06.01.00.fits'\n",
      "  to cache './CDP/MIRI_FM_MIRIMAGE_FAST_DARK_06.01.00.fits' ...\n",
      "2022-04-25 11:22:15,468 - INFO - Reading DARK model from './CDP/MIRI_FM_MIRIMAGE_FAST_DARK_06.01.00.fits'\n",
      "2022-04-25 11:22:28,110 - INFO -  Retrieving CDP file\n",
      "  from sftp 'www.miricle.org/.../MIRI_FM_MIRIMAGE_P750L_PIXELFLAT_07.01.01.fits'\n",
      "  to cache './CDP/MIRI_FM_MIRIMAGE_P750L_PIXELFLAT_07.01.01.fits' ...\n",
      "2022-04-25 11:22:29,783 - INFO - Reading 'PIXELFLAT' model from './CDP/MIRI_FM_MIRIMAGE_P750L_PIXELFLAT_07.01.01.fits'\n",
      "2022-04-25 11:22:30,029 - INFO - *NOTE*: Could not find exact match for pixel flat-field for detector MIRIMAGE with FAST mode with filter='P750L'. An alternative (MIRI_FM_MIRIMAGE_P750L_PIXELFLAT_07.01.01.fits) is being used.\n",
      "2022-04-25 11:22:30,200 - INFO -  Retrieving CDP file\n",
      "  from sftp 'www.miricle.org/.../MIRI_FM_MIRIMAGE_LINEARITY_06.02.00.fits'\n",
      "  to cache './CDP/MIRI_FM_MIRIMAGE_LINEARITY_06.02.00.fits' ...\n",
      "2022-04-25 11:22:33,238 - INFO - Reading 'LINEARITY' model from './CDP/MIRI_FM_MIRIMAGE_LINEARITY_06.02.00.fits'\n",
      "2022-04-25 11:22:33,672 - INFO -  Retrieving CDP file\n",
      "  from sftp 'www.miricle.org/.../MIRI_FM_MIRIMAGE_FAST_READNOISE_07.01.00.fits'\n",
      "  to cache './CDP/MIRI_FM_MIRIMAGE_FAST_READNOISE_07.01.00.fits' ...\n",
      "2022-04-25 11:22:34,292 - INFO - Reading 'READNOISE' model from './CDP/MIRI_FM_MIRIMAGE_FAST_READNOISE_07.01.00.fits'\n",
      "2022-04-25 11:22:34,505 - INFO - Creating exposure_data with 1280 rows x 1032 columns plus 120 groups and 10 ints.\n",
      "2022-04-25 11:22:43,232 - INFO - Simulating 10 integrations.\n",
      "2022-04-25 11:22:43,477 - INFO - Simulating 120 groups for integration 1.\n",
      "2022-04-25 11:23:19,040 - INFO - Simulating 120 groups for integration 2.\n",
      "2022-04-25 11:23:51,071 - INFO - Simulating 120 groups for integration 3.\n",
      "2022-04-25 11:24:24,242 - INFO - Simulating 120 groups for integration 4.\n",
      "2022-04-25 11:24:55,892 - INFO - Simulating 120 groups for integration 5.\n",
      "2022-04-25 11:25:29,490 - INFO - Simulating 120 groups for integration 6.\n",
      "2022-04-25 11:26:01,931 - INFO - Simulating 120 groups for integration 7.\n",
      "2022-04-25 11:26:36,284 - INFO - Simulating 120 groups for integration 8.\n",
      "2022-04-25 11:27:10,795 - INFO - Simulating 120 groups for integration 9.\n",
      "2022-04-25 11:27:43,920 - INFO - Simulating 120 groups for integration 10.\n",
      "2022-04-25 11:28:17,027 - INFO - Adding the DARK calibration from ./CDP/MIRI_FM_MIRIMAGE_FAST_DARK_06.01.00.fits\n",
      "2022-04-25 11:32:32,570 - INFO - Correcting nonlinearity from MIRI_FM_MIRIMAGE_LINEARITY_06.02.00.fits\n",
      "2022-04-25 11:39:27,950 - INFO - Output subarray undefined or FULL. SUBSTRT=(1,1), SUBSIZE=(1032,1024)\n",
      "2022-04-25 11:39:28,135 - INFO - WCS keywords defined as CRPIX1=0, CRPIX2=0\n",
      "2022-04-25 11:39:59,364 - INFO - Exposure time 3330.05s (duration 3331.10s) \n",
      "2022-04-25 11:46:54,671 - INFO - Wrote detector image: 20220425_111808_mirisim/det_images/det_image_seq1_MIRIMAGE_P750Lexp1.fits\n",
      "2022-04-25 11:46:54,980 - INFO - Simulating OffsetEvent, time elapsed: 30.0 seconds\n",
      "2022-04-25 11:46:59,329 - INFO - Simulating ExposureEvent for pointing 2\n",
      "2022-04-25 11:46:59,376 - INFO - Simulating Lrs exposures for pointing 2\n",
      "2022-04-25 11:46:59,388 - INFO - Simulating detector illumination for LRS exposures for pointing 2\n",
      "2022-04-25 11:46:59,473 - INFO - lrs simulator processing  cfgpath=LRS_SLIT\n",
      "2022-04-25 11:46:59,495 - INFO - lrssim takes CDP PSF\n",
      "2022-04-25 11:46:59,564 - INFO - Reading 'DISTORTION' model from './CDP/MIRI_FM_MIRIMAGE_P750L_DISTORTION_07.02.00.fits'\n",
      "2022-04-25 11:47:00,403 - INFO - use PHOTOM (SRF) CDP to convert flux\n",
      "2022-04-25 11:47:00,411 - INFO - Reading 'PHOTOM' model from './CDP/MIRI_FM_MIRIMAGE_P750L_PHOTOM_8B.03.01.fits'\n",
      "2022-04-25 11:47:00,864 - INFO - Reading 'AREA' model from './CDP/MIRI_FM_MIRIMAGE_AREA_07.00.00.fits'\n",
      "2022-04-25 11:47:01,243 - INFO - v2_ref= -415.069047, v3_ref=-400.575920 , v2_off=0.947098, v3_off=-0.078699, pa=0.000000\n",
      "2022-04-25 11:47:01,248 - INFO - Reading 'DISTORTION' model from './CDP/MIRI_FM_MIRIMAGE_DISTORTION_07.04.01.fits'\n",
      "2022-04-25 11:47:02,265 - INFO - Reading 'DISTORTION' model from './CDP/MIRI_FM_MIRIMAGE_P750L_DISTORTION_07.02.00.fits'\n",
      "2022-04-25 11:47:03,162 - INFO - Reading 'PSF' model from './CDP/MIRI_FM_MIRIMAGE_P750L_PSF_07.04.00.fits'\n",
      "2022-04-25 11:47:03,884 - INFO - Retrieving file for Lrs Array Mask: FocalPlaneMask\n",
      "2022-04-25 11:47:04,181 - INFO - 1 point sources in scene\n",
      "2022-04-25 11:47:04,191 - INFO - point source no: 0\n",
      "2022-04-25 11:47:04,198 - INFO - lrs simulator processing in get_point_int in mirisim.lrssim.lrs\n",
      "2022-04-25 11:47:04,289 - INFO - xcenter 333.72114189985723\n",
      "2022-04-25 11:47:04,292 - INFO - ycenter 299.7203493875901\n",
      "2022-04-25 11:47:04,300 - INFO - xdiff 8.591141899857234\n",
      "2022-04-25 11:47:04,303 - INFO - ydiff 0.020349387590101742\n",
      "2022-04-25 11:47:04,819 - INFO - lrs simulator processing in get_extended_from_scene_lrs in mirisim.lrssim.lrs\n",
      "2022-04-25 11:47:04,822 - INFO - no extended sources in scene\n",
      "2022-04-25 11:47:04,841 - INFO - no extended sources are computed\n",
      "2022-04-25 11:47:04,844 - INFO - lrs simulator processing in extract_sky_cube in mirisim.lrssim.lrs\n",
      "2022-04-25 11:47:04,852 - INFO - no scenecube sources in scene\n",
      "2022-04-25 11:47:04,857 - INFO - no fits skyCube sources are computed\n",
      "2022-04-25 11:47:04,872 - INFO - lrs simulator processing in get_background_from_scene_lrs in mirisim.lrssim.lrs\n",
      "2022-04-25 11:47:04,887 - INFO - 1 backgrounds available in scene\n",
      "2022-04-25 11:47:07,577 - INFO - Wrote illumination model: 20220425_111808_mirisim/illum_models/illum_model_seq2_MIRIMAGE_P750L.fits\n",
      "2022-04-25 11:47:07,581 - INFO - Simulating integrated detector images for LRS exposures for pointing 2\n",
      "2022-04-25 11:47:07,609 - INFO - Simulating LRS exposure 1\n",
      "2022-04-25 11:47:07,643 - INFO - Running SCASim\n",
      "2022-04-25 11:47:07,651 - INFO - Simulating  detector readout for MIRIMAGE from illumination data model of shape (1024, 1032).\n",
      "2022-04-25 11:47:07,879 - INFO - Results will be returned in an exposure data model.\n",
      "2022-04-25 11:47:08,010 - INFO -   Detector readout mode is FAST (samplesum=1, sampleskip=0, nframe=1, groupgap=0) \n",
      "  with 10 integrations and ngroups=120 defined explicitly.\n",
      "  Detector subarray mode is FULL.\n",
      "2022-04-25 11:47:08,015 - INFO - Detector temperature = 6.70 K (which affects dark current and read noise).\n",
      "2022-04-25 11:47:08,020 - INFO - Cosmic ray environment is SOLAR_MIN. (No change.)\n",
      "2022-04-25 11:47:08,033 - INFO - Simulation control flags:\n",
      "\tQuantum efficiency simulation turned OFF.\n",
      "\tPoisson noise simulation turned ON.\n",
      "\tRead noise simulation turned ON.\n",
      "\tReference pixels simulation turned ON.\n",
      "\tBad pixels simulation turned ON.\n",
      "\tDark current simulation turned ON.\n",
      "\tFlat-field simulation turned ON.\n",
      "\tAmplifier bias and gain turned ON.\n",
      "\tDetector non-linearity effects turned ON.\n",
      "\tDetector drift effects turned ON.\n",
      "\tDetector latency effects turned ON.\n"
     ]
    },
    {
     "name": "stderr",
     "output_type": "stream",
     "text": [
      "2022-04-25 11:47:08,036 - WARNING - ***Illumination map of size 1024 x 1032 is too large! Truncating to detector size of 1024 x 1024 pixels.\n",
      "2022-04-25 11:47:08,054 - INFO - Input subarray mode obtained from illumination map: FULL\n",
      "2022-04-25 11:47:08,057 - INFO - Detector properties translates input subarray FULL into None\n",
      "2022-04-25 11:47:08,064 - INFO - Reading 'MASK' model from './CDP/MIRI_FM_MIRIMAGE_MASK_07.02.01.fits'\n",
      "2022-04-25 11:47:08,683 - INFO - Reading 'GAIN' model from './CDP/MIRI_FM_MIRIMAGE_GAIN_04.00.00.fits'\n",
      "2022-04-25 11:47:09,177 - INFO - Reading DARK model from './CDP/MIRI_FM_MIRIMAGE_FAST_DARK_06.01.00.fits'\n",
      "2022-04-25 11:47:18,496 - INFO - Reading 'PIXELFLAT' model from './CDP/MIRI_FM_MIRIMAGE_P750L_PIXELFLAT_07.01.01.fits'\n",
      "2022-04-25 11:47:18,751 - INFO - *NOTE*: Could not find exact match for pixel flat-field for detector MIRIMAGE with FAST mode with filter='P750L'. An alternative (MIRI_FM_MIRIMAGE_P750L_PIXELFLAT_07.01.01.fits) is being used.\n",
      "2022-04-25 11:47:18,933 - INFO - Reading 'LINEARITY' model from './CDP/MIRI_FM_MIRIMAGE_LINEARITY_06.02.00.fits'\n",
      "2022-04-25 11:47:19,683 - INFO - Reading 'READNOISE' model from './CDP/MIRI_FM_MIRIMAGE_FAST_READNOISE_07.01.00.fits'\n",
      "2022-04-25 11:47:19,872 - INFO - Creating exposure_data with 1280 rows x 1032 columns plus 120 groups and 10 ints.\n",
      "2022-04-25 11:47:28,321 - INFO - Simulating 10 integrations.\n",
      "2022-04-25 11:47:28,888 - INFO - Simulating 120 groups for integration 1.\n",
      "2022-04-25 11:48:08,952 - INFO - Simulating 120 groups for integration 2.\n",
      "2022-04-25 11:48:54,605 - INFO - Simulating 120 groups for integration 3.\n",
      "2022-04-25 11:49:33,956 - INFO - Simulating 120 groups for integration 4.\n",
      "2022-04-25 11:50:12,553 - INFO - Simulating 120 groups for integration 5.\n",
      "2022-04-25 11:50:44,827 - INFO - Simulating 120 groups for integration 6.\n",
      "2022-04-25 11:51:23,372 - INFO - Simulating 120 groups for integration 7.\n",
      "2022-04-25 11:52:00,086 - INFO - Simulating 120 groups for integration 8.\n",
      "2022-04-25 11:52:39,203 - INFO - Simulating 120 groups for integration 9.\n",
      "2022-04-25 11:53:18,256 - INFO - Simulating 120 groups for integration 10.\n",
      "2022-04-25 11:53:51,841 - INFO - Adding the DARK calibration from ./CDP/MIRI_FM_MIRIMAGE_FAST_DARK_06.01.00.fits\n",
      "2022-04-25 11:57:27,193 - INFO - Correcting nonlinearity from MIRI_FM_MIRIMAGE_LINEARITY_06.02.00.fits\n",
      "2022-04-25 12:05:18,021 - INFO - Output subarray undefined or FULL. SUBSTRT=(1,1), SUBSIZE=(1032,1024)\n",
      "2022-04-25 12:05:18,105 - INFO - WCS keywords defined as CRPIX1=0, CRPIX2=0\n",
      "2022-04-25 12:05:41,415 - INFO - Exposure time 3330.05s (duration 3331.10s) \n"
     ]
    }
   ],
   "source": [
    "# Run simulation\n",
    "mysim = MiriSimulation(sim_config,scene_config,simulator_config)\n",
    "mysim.run()   "
   ]
  },
  {
   "cell_type": "markdown",
   "metadata": {},
   "source": [
    "## Examine some of the results\n",
    "\n",
    "Now that the MIRISim simulation has completed, lets examine the results. \n",
    "\n",
    "\n",
    "The first thing to note is that the outputs are placed in a date-labelled directory taking the form  <code> YYYYMMDD_hhmmss_mirisim</code>.  The name of the output directory is given in the last line of the MIRISim log above.  Because the output directory is date-labelled, we can quantify which was the most recent run of MIRISim, and find its output directory using <code>glob.glob</code>\n",
    "\n",
    "### The results of the simulation are contained in the most recent directory. "
   ]
  },
  {
   "cell_type": "code",
   "execution_count": 1,
   "metadata": {},
   "outputs": [
    {
     "ename": "NameError",
     "evalue": "name 'glob' is not defined",
     "output_type": "error",
     "traceback": [
      "\u001b[0;31m---------------------------------------------------------------------------\u001b[0m",
      "\u001b[0;31mNameError\u001b[0m                                 Traceback (most recent call last)",
      "Input \u001b[0;32mIn [1]\u001b[0m, in \u001b[0;36m<cell line: 1>\u001b[0;34m()\u001b[0m\n\u001b[0;32m----> 1\u001b[0m outputdir \u001b[38;5;241m=\u001b[39m \u001b[38;5;28msorted\u001b[39m(\u001b[43mglob\u001b[49m\u001b[38;5;241m.\u001b[39mglob(\u001b[38;5;124m'\u001b[39m\u001b[38;5;124m*_*_mirisim\u001b[39m\u001b[38;5;124m'\u001b[39m),key\u001b[38;5;241m=\u001b[39mos\u001b[38;5;241m.\u001b[39mpath\u001b[38;5;241m.\u001b[39mgetmtime)[\u001b[38;5;241m-\u001b[39m\u001b[38;5;241m1\u001b[39m]    \u001b[38;5;66;03m#[-1] takes the last entry found\u001b[39;00m\n\u001b[1;32m      3\u001b[0m outputDirContents \u001b[38;5;241m=\u001b[39m os\u001b[38;5;241m.\u001b[39mlistdir(outputdir)\n\u001b[1;32m      5\u001b[0m directories \u001b[38;5;241m=\u001b[39m [name \u001b[38;5;28;01mfor\u001b[39;00m name \u001b[38;5;129;01min\u001b[39;00m outputDirContents \u001b[38;5;28;01mif\u001b[39;00m os\u001b[38;5;241m.\u001b[39mpath\u001b[38;5;241m.\u001b[39misdir(os\u001b[38;5;241m.\u001b[39mpath\u001b[38;5;241m.\u001b[39mjoin(outputdir,name))]\n",
      "\u001b[0;31mNameError\u001b[0m: name 'glob' is not defined"
     ]
    }
   ],
   "source": [
    "outputdir = sorted(glob.glob('*_*_mirisim'),key=os.path.getmtime)[-1]    #[-1] takes the last entry found\n",
    "\n",
    "outputDirContents = os.listdir(outputdir)\n",
    "\n",
    "directories = [name for name in outputDirContents if os.path.isdir(os.path.join(outputdir,name))]\n",
    "files = [name for name in outputDirContents if not os.path.isdir(os.path.join(outputdir,name))]\n",
    "\n",
    "print('The subdirectories in the output directory are:\\n{}'.format(directories))\n",
    "print('The files in the output directory are:\\n{}'.format(files))"
   ]
  },
  {
   "cell_type": "markdown",
   "metadata": {},
   "source": [
    "### Viewing an illumination model\n",
    "\n",
    "Below shows an example of the output illumination model.  The illumination model is the representation of the light from the scene that is hitting the detector. It has all of the transformations and distortions (and for spectroscopy, the dispersions) applied to the light from the scene. This is then input to the detector simulator which applies the sensitivity models, cosmic rays and noise sources of the instrument.  "
   ]
  },
  {
   "cell_type": "code",
   "execution_count": null,
   "metadata": {},
   "outputs": [],
   "source": [
    "show_outputs(outputdir,'illum_models')"
   ]
  },
  {
   "cell_type": "markdown",
   "metadata": {},
   "source": [
    "## Viewing the final detector image\n",
    "\n",
    "The detector images are the final output of MIRISim, and have data structures and formatting consistent with what will come from MIRI itself. The data format is JWST pipeline ready.  Below an example image of the last frame of the last integration is shown. The units are <code>DN</code>.\n",
    "\n",
    "Additionally, below the FITS header information for the SCIENCE extension is listed"
   ]
  },
  {
   "cell_type": "code",
   "execution_count": null,
   "metadata": {},
   "outputs": [],
   "source": [
    "show_outputs(outputdir,'det_images')\n",
    "\n",
    "infits = glob.glob('{}/det_images/*.fits'.format(outputdir))[0]\n",
    "hdulist = fits.open(infits)\n",
    "hdulist[1].header"
   ]
  },
  {
   "cell_type": "markdown",
   "metadata": {},
   "source": [
    "## The outputs of MIRISim can now be run through the JWST pipeline see:\n",
    "###  https://jwst-docs.stsci.edu/jwst-data-reduction-pipeline and https://jwst-pipeline.readthedocs.io/en/stable/"
   ]
  },
  {
   "cell_type": "code",
   "execution_count": null,
   "metadata": {},
   "outputs": [],
   "source": []
  }
 ],
 "metadata": {
  "kernelspec": {
   "display_name": "Python 3 (ipykernel)",
   "language": "python",
   "name": "python3"
  },
  "language_info": {
   "codemirror_mode": {
    "name": "ipython",
    "version": 3
   },
   "file_extension": ".py",
   "mimetype": "text/x-python",
   "name": "python",
   "nbconvert_exporter": "python",
   "pygments_lexer": "ipython3",
   "version": "3.9.7"
  }
 },
 "nbformat": 4,
 "nbformat_minor": 2
}
