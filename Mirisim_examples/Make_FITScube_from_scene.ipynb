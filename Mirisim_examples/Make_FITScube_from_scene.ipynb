{
 "cells": [
  {
   "cell_type": "markdown",
   "metadata": {},
   "source": [
    "# Creating a Sky Cube from an Input Scene"
   ]
  },
  {
   "cell_type": "markdown",
   "metadata": {},
   "source": [
    "This notebook describes how to create a MIRISim scene within python, and then how to export that cube into a FITS file for further inspection.  This functionality is not available when MIRISim is used from the command line.\n",
    "\n",
    "Any scene generated within MIRISim, and many scenes created using external files (FITS cubes or external text based SED files) can be exported to a FITS file, and here we show how to create a FITS cube for both imager and MRS outputs - which differ sigificantly in their fields of view, and number of required spectral channels.\n",
    "\n",
    "Below are instructions to:\n",
    "\n",
    "* create a sky scene using the MIRISim component SkySim\n",
    "* output an MRS sky cube like that produced during a simulation\n",
    "* output a more generic FITS file taken from the inputs, for both the imager and the MRS\n",
    "\n",
    "\n",
    "\n",
    "## Setting up a Sky Scene\n",
    "\n",
    "The first step will be to create a sky scene (including an extended galaxy, with a spectral line at 5.8 $\\mu$m, a spectral energy distribution created by pySynPhot."
   ]
  },
  {
   "cell_type": "code",
   "execution_count": 1,
   "metadata": {
    "pycharm": {
     "is_executing": true
    }
   },
   "outputs": [
    {
     "name": "stdout",
     "output_type": "stream",
     "text": [
      "env: PYSYN_CDBS=/Users/niklasviebig/Desktop/Python/JWST_semester_project/trds\n"
     ]
    }
   ],
   "source": [
    "%env PYSYN_CDBS=/Users/niklasviebig/Desktop/Python/JWST_semester_project/trds"
   ]
  },
  {
   "cell_type": "code",
   "execution_count": 2,
   "metadata": {},
   "outputs": [
    {
     "name": "stderr",
     "output_type": "stream",
     "text": [
      "/Users/niklasviebig/opt/anaconda3/envs/mirisim/lib/python3.9/site-packages/pysynphot/locations.py:345: UserWarning: Extinction files not found in /Users/niklasviebig/Desktop/Python/JWST_semester_project/trds/extinction\n",
      "  warnings.warn('Extinction files not found in %s' % (extdir, ))\n",
      "/Users/niklasviebig/opt/anaconda3/envs/mirisim/lib/python3.9/site-packages/pysynphot/refs.py:117: UserWarning: No graph or component tables found; functionality will be SEVERELY crippled. No files found for /Users/niklasviebig/Desktop/Python/JWST_semester_project/trds/mtab/*_tmg.fits\n",
      "  warnings.warn('No graph or component tables found; '\n",
      "/Users/niklasviebig/opt/anaconda3/envs/mirisim/lib/python3.9/site-packages/pysynphot/refs.py:124: UserWarning: No thermal tables found, no thermal calculations can be performed. No files found for /Users/niklasviebig/Desktop/Python/JWST_semester_project/trds/mtab/*_tmt.fits\n",
      "  warnings.warn('No thermal tables found, '\n",
      "2022-04-04 13:46:08,352 - INFO - Reading cosmic ray properties from parameter file /Users/niklasviebig/opt/anaconda3/envs/mirisim/lib/python3.9/site-packages/miri/simulators/scasim/cosmic_ray_properties.py\n",
      "2022-04-04 13:46:08,364 - INFO - Reading detector properties from parameter file /Users/niklasviebig/opt/anaconda3/envs/mirisim/lib/python3.9/site-packages/miri/simulators/scasim/detector_properties.py\n"
     ]
    }
   ],
   "source": [
    "#import mirisim components\n",
    "\n",
    "from mirisim import skysim, obssim\n",
    "#import the scene configuration parser\n",
    "from mirisim.config_parser import SceneConfig\n",
    "import numpy as np"
   ]
  },
  {
   "cell_type": "code",
   "execution_count": 3,
   "metadata": {},
   "outputs": [
    {
     "name": "stderr",
     "output_type": "stream",
     "text": [
      "2022-04-04 13:46:08,513 - INFO - Initializing Background\n",
      "2022-04-04 13:46:08,517 - INFO - Initializing Galaxy\n",
      "2022-04-04 13:46:08,520 - INFO - Initializing Galaxy\n",
      "2022-04-04 13:46:08,521 - INFO - Initializing Galaxy\n"
     ]
    },
    {
     "ename": "FileNotFoundError",
     "evalue": "[Errno 2] No such file or directory: '/Users/niklasviebig/Desktop/Python/JWST_semester_project/trds/grid/bc95/templates/bc95_b_10E6.fits'",
     "output_type": "error",
     "traceback": [
      "\u001b[0;31m---------------------------------------------------------------------------\u001b[0m",
      "\u001b[0;31mFileNotFoundError\u001b[0m                         Traceback (most recent call last)",
      "Input \u001b[0;32mIn [3]\u001b[0m, in \u001b[0;36m<cell line: 12>\u001b[0;34m()\u001b[0m\n\u001b[1;32m      6\u001b[0m Gal \u001b[38;5;241m=\u001b[39m skysim\u001b[38;5;241m.\u001b[39mGalaxy(Cen\u001b[38;5;241m=\u001b[39m(\u001b[38;5;241m-\u001b[39m\u001b[38;5;241m1\u001b[39m,\u001b[38;5;241m-\u001b[39m\u001b[38;5;241m1\u001b[39m),n\u001b[38;5;241m=\u001b[39m\u001b[38;5;241m2\u001b[39m,re\u001b[38;5;241m=\u001b[39m\u001b[38;5;241m0.5\u001b[39m,q\u001b[38;5;241m=\u001b[39m\u001b[38;5;241m0.3\u001b[39m,pa\u001b[38;5;241m=\u001b[39m\u001b[38;5;241m40\u001b[39m)\n\u001b[1;32m      8\u001b[0m \u001b[38;5;66;03m#setup line and continuum spectral energy distrubtionsy\u001b[39;00m\n\u001b[1;32m      9\u001b[0m \n\u001b[1;32m     10\u001b[0m \u001b[38;5;66;03m# setup continuum spectral energy distribution from the \u001b[39;00m\n\u001b[1;32m     11\u001b[0m \u001b[38;5;66;03m# Bruzual & Charlot (1995) models in pysynphot\u001b[39;00m\n\u001b[0;32m---> 12\u001b[0m sedGALpysyn \u001b[38;5;241m=\u001b[39m \u001b[43mskysim\u001b[49m\u001b[38;5;241;43m.\u001b[39;49m\u001b[43mwrap_pysynphot\u001b[49m\u001b[38;5;241;43m.\u001b[39;49m\u001b[43mPYSPSed\u001b[49m\u001b[43m(\u001b[49m\n\u001b[1;32m     13\u001b[0m \u001b[43m                    \u001b[49m\u001b[43mfamily\u001b[49m\u001b[38;5;241;43m=\u001b[39;49m\u001b[38;5;124;43m'\u001b[39;49m\u001b[38;5;124;43mbc95\u001b[39;49m\u001b[38;5;124;43m'\u001b[39;49m\u001b[43m,\u001b[49m\u001b[43msedname\u001b[49m\u001b[38;5;241;43m=\u001b[39;49m\u001b[38;5;124;43m'\u001b[39;49m\u001b[38;5;124;43mbc95_b_10E6\u001b[39;49m\u001b[38;5;124;43m'\u001b[39;49m\u001b[43m,\u001b[49m\u001b[43mwref\u001b[49m\u001b[38;5;241;43m=\u001b[39;49m\u001b[38;5;241;43m5.\u001b[39;49m\u001b[43m,\u001b[49m\u001b[43mflux\u001b[49m\u001b[38;5;241;43m=\u001b[39;49m\u001b[38;5;241;43m10.\u001b[39;49m\u001b[43m)\u001b[49m\n\u001b[1;32m     15\u001b[0m \u001b[38;5;66;03m# attach the merged SED to the galaxy object\u001b[39;00m\n\u001b[1;32m     16\u001b[0m Gal\u001b[38;5;241m.\u001b[39mset_SED(sedGALpysyn)\n",
      "File \u001b[0;32m~/opt/anaconda3/envs/mirisim/lib/python3.9/site-packages/mirisim/skysim/wrap_pysynphot.py:120\u001b[0m, in \u001b[0;36mPYSPSed.__init__\u001b[0;34m(self, family, subfamily, sedpars, sedname, **kwargs)\u001b[0m\n\u001b[1;32m    117\u001b[0m \u001b[38;5;28mself\u001b[39m\u001b[38;5;241m.\u001b[39msptype \u001b[38;5;241m=\u001b[39m \u001b[38;5;124m'\u001b[39m\u001b[38;5;124mwrap_pysynphot\u001b[39m\u001b[38;5;124m'\u001b[39m\n\u001b[1;32m    118\u001b[0m \u001b[38;5;28mself\u001b[39m\u001b[38;5;241m.\u001b[39m_PYSPsed \u001b[38;5;241m=\u001b[39m \u001b[38;5;28;01mNone\u001b[39;00m\n\u001b[0;32m--> 120\u001b[0m \u001b[38;5;28;43mself\u001b[39;49m\u001b[38;5;241;43m.\u001b[39;49m\u001b[43mloadPysynphotSED\u001b[49m\u001b[43m(\u001b[49m\u001b[43mfamily\u001b[49m\u001b[43m,\u001b[49m\u001b[43m \u001b[49m\u001b[43msubfamily\u001b[49m\u001b[43m,\u001b[49m\u001b[43m \u001b[49m\u001b[43msedpars\u001b[49m\u001b[43m,\u001b[49m\u001b[43m \u001b[49m\u001b[43msedname\u001b[49m\u001b[43m)\u001b[49m\n\u001b[1;32m    122\u001b[0m \u001b[38;5;28mself\u001b[39m\u001b[38;5;241m.\u001b[39mfamily \u001b[38;5;241m=\u001b[39m \u001b[38;5;28;01mNone\u001b[39;00m\n\u001b[1;32m    123\u001b[0m \u001b[38;5;28;01mif\u001b[39;00m family \u001b[38;5;241m!=\u001b[39m \u001b[38;5;124m'\u001b[39m\u001b[38;5;124m'\u001b[39m:\n",
      "File \u001b[0;32m~/opt/anaconda3/envs/mirisim/lib/python3.9/site-packages/mirisim/skysim/wrap_pysynphot.py:151\u001b[0m, in \u001b[0;36mPYSPSed.loadPysynphotSED\u001b[0;34m(self, family, subfamily, sedpars, sedname)\u001b[0m\n\u001b[1;32m    149\u001b[0m \u001b[38;5;28;01mif\u001b[39;00m sedname \u001b[38;5;241m!=\u001b[39m \u001b[38;5;124m'\u001b[39m\u001b[38;5;124m'\u001b[39m:\n\u001b[1;32m    150\u001b[0m     sedpath \u001b[38;5;241m=\u001b[39m find_sedpath(sedname, family, subfamily)\n\u001b[0;32m--> 151\u001b[0m     sed \u001b[38;5;241m=\u001b[39m \u001b[43mS\u001b[49m\u001b[38;5;241;43m.\u001b[39;49m\u001b[43mFileSpectrum\u001b[49m\u001b[43m(\u001b[49m\u001b[43msedpath\u001b[49m\u001b[43m)\u001b[49m            \n\u001b[1;32m    152\u001b[0m \u001b[38;5;28;01melif\u001b[39;00m sedpars \u001b[38;5;241m!=\u001b[39m []:\n\u001b[1;32m    153\u001b[0m     sed \u001b[38;5;241m=\u001b[39m S\u001b[38;5;241m.\u001b[39mIcat(family, \u001b[38;5;241m*\u001b[39msedpars)\n",
      "File \u001b[0;32m~/opt/anaconda3/envs/mirisim/lib/python3.9/site-packages/pysynphot/spectrum.py:1299\u001b[0m, in \u001b[0;36mFileSourceSpectrum.__init__\u001b[0;34m(self, filename, fluxname, keepneg)\u001b[0m\n\u001b[1;32m   1297\u001b[0m \u001b[38;5;28;01mdef\u001b[39;00m \u001b[38;5;21m__init__\u001b[39m(\u001b[38;5;28mself\u001b[39m, filename, fluxname\u001b[38;5;241m=\u001b[39m\u001b[38;5;28;01mNone\u001b[39;00m, keepneg\u001b[38;5;241m=\u001b[39m\u001b[38;5;28;01mFalse\u001b[39;00m):\n\u001b[1;32m   1298\u001b[0m     \u001b[38;5;28mself\u001b[39m\u001b[38;5;241m.\u001b[39mname \u001b[38;5;241m=\u001b[39m locations\u001b[38;5;241m.\u001b[39mirafconvert(filename)\n\u001b[0;32m-> 1299\u001b[0m     \u001b[38;5;28;43mself\u001b[39;49m\u001b[38;5;241;43m.\u001b[39;49m\u001b[43m_readSpectrumFile\u001b[49m\u001b[43m(\u001b[49m\u001b[38;5;28;43mself\u001b[39;49m\u001b[38;5;241;43m.\u001b[39;49m\u001b[43mname\u001b[49m\u001b[43m,\u001b[49m\u001b[43m \u001b[49m\u001b[43mfluxname\u001b[49m\u001b[43m)\u001b[49m\n\u001b[1;32m   1300\u001b[0m     \u001b[38;5;28mself\u001b[39m\u001b[38;5;241m.\u001b[39mvalidate_units()\n\u001b[1;32m   1301\u001b[0m     \u001b[38;5;28mself\u001b[39m\u001b[38;5;241m.\u001b[39mvalidate_wavetable()\n",
      "File \u001b[0;32m~/opt/anaconda3/envs/mirisim/lib/python3.9/site-packages/pysynphot/spectrum.py:1310\u001b[0m, in \u001b[0;36mFileSourceSpectrum._readSpectrumFile\u001b[0;34m(self, filename, fluxname)\u001b[0m\n\u001b[1;32m   1308\u001b[0m \u001b[38;5;28;01mdef\u001b[39;00m \u001b[38;5;21m_readSpectrumFile\u001b[39m(\u001b[38;5;28mself\u001b[39m, filename, fluxname):\n\u001b[1;32m   1309\u001b[0m     \u001b[38;5;28;01mif\u001b[39;00m filename\u001b[38;5;241m.\u001b[39mendswith(\u001b[38;5;124m'\u001b[39m\u001b[38;5;124m.fits\u001b[39m\u001b[38;5;124m'\u001b[39m) \u001b[38;5;129;01mor\u001b[39;00m filename\u001b[38;5;241m.\u001b[39mendswith(\u001b[38;5;124m'\u001b[39m\u001b[38;5;124m.fit\u001b[39m\u001b[38;5;124m'\u001b[39m):\n\u001b[0;32m-> 1310\u001b[0m         \u001b[38;5;28;43mself\u001b[39;49m\u001b[38;5;241;43m.\u001b[39;49m\u001b[43m_readFITS\u001b[49m\u001b[43m(\u001b[49m\u001b[43mfilename\u001b[49m\u001b[43m,\u001b[49m\u001b[43m \u001b[49m\u001b[43mfluxname\u001b[49m\u001b[43m)\u001b[49m\n\u001b[1;32m   1311\u001b[0m     \u001b[38;5;28;01melse\u001b[39;00m:\n\u001b[1;32m   1312\u001b[0m         \u001b[38;5;28mself\u001b[39m\u001b[38;5;241m.\u001b[39m_readASCII(filename)\n",
      "File \u001b[0;32m~/opt/anaconda3/envs/mirisim/lib/python3.9/site-packages/pysynphot/spectrum.py:1315\u001b[0m, in \u001b[0;36mFileSourceSpectrum._readFITS\u001b[0;34m(self, filename, fluxname)\u001b[0m\n\u001b[1;32m   1314\u001b[0m \u001b[38;5;28;01mdef\u001b[39;00m \u001b[38;5;21m_readFITS\u001b[39m(\u001b[38;5;28mself\u001b[39m, filename, fluxname):\n\u001b[0;32m-> 1315\u001b[0m     fs \u001b[38;5;241m=\u001b[39m \u001b[43mpyfits\u001b[49m\u001b[38;5;241;43m.\u001b[39;49m\u001b[43mopen\u001b[49m\u001b[43m(\u001b[49m\u001b[43mfilename\u001b[49m\u001b[43m)\u001b[49m\n\u001b[1;32m   1317\u001b[0m     \u001b[38;5;66;03m# pyfits cannot close the file on .close() if there are still\u001b[39;00m\n\u001b[1;32m   1318\u001b[0m     \u001b[38;5;66;03m# references to mmapped data\u001b[39;00m\n\u001b[1;32m   1319\u001b[0m     \u001b[38;5;28mself\u001b[39m\u001b[38;5;241m.\u001b[39m_wavetable \u001b[38;5;241m=\u001b[39m fs[\u001b[38;5;241m1\u001b[39m]\u001b[38;5;241m.\u001b[39mdata\u001b[38;5;241m.\u001b[39mfield(\u001b[38;5;124m'\u001b[39m\u001b[38;5;124mwavelength\u001b[39m\u001b[38;5;124m'\u001b[39m)\u001b[38;5;241m.\u001b[39mcopy()\n",
      "File \u001b[0;32m~/opt/anaconda3/envs/mirisim/lib/python3.9/site-packages/astropy/io/fits/hdu/hdulist.py:176\u001b[0m, in \u001b[0;36mfitsopen\u001b[0;34m(name, mode, memmap, save_backup, cache, lazy_load_hdus, ignore_missing_simple, **kwargs)\u001b[0m\n\u001b[1;32m    173\u001b[0m \u001b[38;5;28;01mif\u001b[39;00m \u001b[38;5;129;01mnot\u001b[39;00m name:\n\u001b[1;32m    174\u001b[0m     \u001b[38;5;28;01mraise\u001b[39;00m \u001b[38;5;167;01mValueError\u001b[39;00m(\u001b[38;5;124mf\u001b[39m\u001b[38;5;124m'\u001b[39m\u001b[38;5;124mEmpty filename: \u001b[39m\u001b[38;5;132;01m{\u001b[39;00mname\u001b[38;5;132;01m!r}\u001b[39;00m\u001b[38;5;124m'\u001b[39m)\n\u001b[0;32m--> 176\u001b[0m \u001b[38;5;28;01mreturn\u001b[39;00m \u001b[43mHDUList\u001b[49m\u001b[38;5;241;43m.\u001b[39;49m\u001b[43mfromfile\u001b[49m\u001b[43m(\u001b[49m\u001b[43mname\u001b[49m\u001b[43m,\u001b[49m\u001b[43m \u001b[49m\u001b[43mmode\u001b[49m\u001b[43m,\u001b[49m\u001b[43m \u001b[49m\u001b[43mmemmap\u001b[49m\u001b[43m,\u001b[49m\u001b[43m \u001b[49m\u001b[43msave_backup\u001b[49m\u001b[43m,\u001b[49m\u001b[43m \u001b[49m\u001b[43mcache\u001b[49m\u001b[43m,\u001b[49m\n\u001b[1;32m    177\u001b[0m \u001b[43m                        \u001b[49m\u001b[43mlazy_load_hdus\u001b[49m\u001b[43m,\u001b[49m\u001b[43m \u001b[49m\u001b[43mignore_missing_simple\u001b[49m\u001b[43m,\u001b[49m\u001b[43m \u001b[49m\u001b[38;5;241;43m*\u001b[39;49m\u001b[38;5;241;43m*\u001b[39;49m\u001b[43mkwargs\u001b[49m\u001b[43m)\u001b[49m\n",
      "File \u001b[0;32m~/opt/anaconda3/envs/mirisim/lib/python3.9/site-packages/astropy/io/fits/hdu/hdulist.py:411\u001b[0m, in \u001b[0;36mHDUList.fromfile\u001b[0;34m(cls, fileobj, mode, memmap, save_backup, cache, lazy_load_hdus, ignore_missing_simple, **kwargs)\u001b[0m\n\u001b[1;32m    399\u001b[0m \u001b[38;5;129m@classmethod\u001b[39m\n\u001b[1;32m    400\u001b[0m \u001b[38;5;28;01mdef\u001b[39;00m \u001b[38;5;21mfromfile\u001b[39m(\u001b[38;5;28mcls\u001b[39m, fileobj, mode\u001b[38;5;241m=\u001b[39m\u001b[38;5;28;01mNone\u001b[39;00m, memmap\u001b[38;5;241m=\u001b[39m\u001b[38;5;28;01mNone\u001b[39;00m,\n\u001b[1;32m    401\u001b[0m              save_backup\u001b[38;5;241m=\u001b[39m\u001b[38;5;28;01mFalse\u001b[39;00m, cache\u001b[38;5;241m=\u001b[39m\u001b[38;5;28;01mTrue\u001b[39;00m, lazy_load_hdus\u001b[38;5;241m=\u001b[39m\u001b[38;5;28;01mTrue\u001b[39;00m,\n\u001b[1;32m    402\u001b[0m              ignore_missing_simple\u001b[38;5;241m=\u001b[39m\u001b[38;5;28;01mFalse\u001b[39;00m, \u001b[38;5;241m*\u001b[39m\u001b[38;5;241m*\u001b[39mkwargs):\n\u001b[1;32m    403\u001b[0m     \u001b[38;5;124;03m\"\"\"\u001b[39;00m\n\u001b[1;32m    404\u001b[0m \u001b[38;5;124;03m    Creates an `HDUList` instance from a file-like object.\u001b[39;00m\n\u001b[1;32m    405\u001b[0m \n\u001b[0;32m   (...)\u001b[0m\n\u001b[1;32m    408\u001b[0m \u001b[38;5;124;03m    documentation for details of the parameters accepted by this method).\u001b[39;00m\n\u001b[1;32m    409\u001b[0m \u001b[38;5;124;03m    \"\"\"\u001b[39;00m\n\u001b[0;32m--> 411\u001b[0m     \u001b[38;5;28;01mreturn\u001b[39;00m \u001b[38;5;28;43mcls\u001b[39;49m\u001b[38;5;241;43m.\u001b[39;49m\u001b[43m_readfrom\u001b[49m\u001b[43m(\u001b[49m\u001b[43mfileobj\u001b[49m\u001b[38;5;241;43m=\u001b[39;49m\u001b[43mfileobj\u001b[49m\u001b[43m,\u001b[49m\u001b[43m \u001b[49m\u001b[43mmode\u001b[49m\u001b[38;5;241;43m=\u001b[39;49m\u001b[43mmode\u001b[49m\u001b[43m,\u001b[49m\u001b[43m \u001b[49m\u001b[43mmemmap\u001b[49m\u001b[38;5;241;43m=\u001b[39;49m\u001b[43mmemmap\u001b[49m\u001b[43m,\u001b[49m\n\u001b[1;32m    412\u001b[0m \u001b[43m                         \u001b[49m\u001b[43msave_backup\u001b[49m\u001b[38;5;241;43m=\u001b[39;49m\u001b[43msave_backup\u001b[49m\u001b[43m,\u001b[49m\u001b[43m \u001b[49m\u001b[43mcache\u001b[49m\u001b[38;5;241;43m=\u001b[39;49m\u001b[43mcache\u001b[49m\u001b[43m,\u001b[49m\n\u001b[1;32m    413\u001b[0m \u001b[43m                         \u001b[49m\u001b[43mignore_missing_simple\u001b[49m\u001b[38;5;241;43m=\u001b[39;49m\u001b[43mignore_missing_simple\u001b[49m\u001b[43m,\u001b[49m\n\u001b[1;32m    414\u001b[0m \u001b[43m                         \u001b[49m\u001b[43mlazy_load_hdus\u001b[49m\u001b[38;5;241;43m=\u001b[39;49m\u001b[43mlazy_load_hdus\u001b[49m\u001b[43m,\u001b[49m\u001b[43m \u001b[49m\u001b[38;5;241;43m*\u001b[39;49m\u001b[38;5;241;43m*\u001b[39;49m\u001b[43mkwargs\u001b[49m\u001b[43m)\u001b[49m\n",
      "File \u001b[0;32m~/opt/anaconda3/envs/mirisim/lib/python3.9/site-packages/astropy/io/fits/hdu/hdulist.py:1071\u001b[0m, in \u001b[0;36mHDUList._readfrom\u001b[0;34m(cls, fileobj, data, mode, memmap, cache, lazy_load_hdus, ignore_missing_simple, **kwargs)\u001b[0m\n\u001b[1;32m   1068\u001b[0m \u001b[38;5;28;01mif\u001b[39;00m fileobj \u001b[38;5;129;01mis\u001b[39;00m \u001b[38;5;129;01mnot\u001b[39;00m \u001b[38;5;28;01mNone\u001b[39;00m:\n\u001b[1;32m   1069\u001b[0m     \u001b[38;5;28;01mif\u001b[39;00m \u001b[38;5;129;01mnot\u001b[39;00m \u001b[38;5;28misinstance\u001b[39m(fileobj, _File):\n\u001b[1;32m   1070\u001b[0m         \u001b[38;5;66;03m# instantiate a FITS file object (ffo)\u001b[39;00m\n\u001b[0;32m-> 1071\u001b[0m         fileobj \u001b[38;5;241m=\u001b[39m \u001b[43m_File\u001b[49m\u001b[43m(\u001b[49m\u001b[43mfileobj\u001b[49m\u001b[43m,\u001b[49m\u001b[43m \u001b[49m\u001b[43mmode\u001b[49m\u001b[38;5;241;43m=\u001b[39;49m\u001b[43mmode\u001b[49m\u001b[43m,\u001b[49m\u001b[43m \u001b[49m\u001b[43mmemmap\u001b[49m\u001b[38;5;241;43m=\u001b[39;49m\u001b[43mmemmap\u001b[49m\u001b[43m,\u001b[49m\u001b[43m \u001b[49m\u001b[43mcache\u001b[49m\u001b[38;5;241;43m=\u001b[39;49m\u001b[43mcache\u001b[49m\u001b[43m)\u001b[49m\n\u001b[1;32m   1072\u001b[0m     \u001b[38;5;66;03m# The Astropy mode is determined by the _File initializer if the\u001b[39;00m\n\u001b[1;32m   1073\u001b[0m     \u001b[38;5;66;03m# supplied mode was None\u001b[39;00m\n\u001b[1;32m   1074\u001b[0m     mode \u001b[38;5;241m=\u001b[39m fileobj\u001b[38;5;241m.\u001b[39mmode\n",
      "File \u001b[0;32m~/opt/anaconda3/envs/mirisim/lib/python3.9/site-packages/astropy/utils/decorators.py:547\u001b[0m, in \u001b[0;36mdeprecated_renamed_argument.<locals>.decorator.<locals>.wrapper\u001b[0;34m(*args, **kwargs)\u001b[0m\n\u001b[1;32m    544\u001b[0m             msg \u001b[38;5;241m+\u001b[39m\u001b[38;5;241m=\u001b[39m \u001b[38;5;124mf\u001b[39m\u001b[38;5;124m'\u001b[39m\u001b[38;5;130;01m\\n\u001b[39;00m\u001b[38;5;124m        Use \u001b[39m\u001b[38;5;132;01m{\u001b[39;00malternative\u001b[38;5;132;01m}\u001b[39;00m\u001b[38;5;124m instead.\u001b[39m\u001b[38;5;124m'\u001b[39m\n\u001b[1;32m    545\u001b[0m         warnings\u001b[38;5;241m.\u001b[39mwarn(msg, warning_type, stacklevel\u001b[38;5;241m=\u001b[39m\u001b[38;5;241m2\u001b[39m)\n\u001b[0;32m--> 547\u001b[0m \u001b[38;5;28;01mreturn\u001b[39;00m \u001b[43mfunction\u001b[49m\u001b[43m(\u001b[49m\u001b[38;5;241;43m*\u001b[39;49m\u001b[43margs\u001b[49m\u001b[43m,\u001b[49m\u001b[43m \u001b[49m\u001b[38;5;241;43m*\u001b[39;49m\u001b[38;5;241;43m*\u001b[39;49m\u001b[43mkwargs\u001b[49m\u001b[43m)\u001b[49m\n",
      "File \u001b[0;32m~/opt/anaconda3/envs/mirisim/lib/python3.9/site-packages/astropy/io/fits/file.py:175\u001b[0m, in \u001b[0;36m_File.__init__\u001b[0;34m(self, fileobj, mode, memmap, overwrite, cache)\u001b[0m\n\u001b[1;32m    173\u001b[0m     \u001b[38;5;28mself\u001b[39m\u001b[38;5;241m.\u001b[39m_open_fileobj(fileobj, mode, overwrite)\n\u001b[1;32m    174\u001b[0m \u001b[38;5;28;01melif\u001b[39;00m \u001b[38;5;28misinstance\u001b[39m(fileobj, (\u001b[38;5;28mstr\u001b[39m, \u001b[38;5;28mbytes\u001b[39m)):\n\u001b[0;32m--> 175\u001b[0m     \u001b[38;5;28;43mself\u001b[39;49m\u001b[38;5;241;43m.\u001b[39;49m\u001b[43m_open_filename\u001b[49m\u001b[43m(\u001b[49m\u001b[43mfileobj\u001b[49m\u001b[43m,\u001b[49m\u001b[43m \u001b[49m\u001b[43mmode\u001b[49m\u001b[43m,\u001b[49m\u001b[43m \u001b[49m\u001b[43moverwrite\u001b[49m\u001b[43m)\u001b[49m\n\u001b[1;32m    176\u001b[0m \u001b[38;5;28;01melse\u001b[39;00m:\n\u001b[1;32m    177\u001b[0m     \u001b[38;5;28mself\u001b[39m\u001b[38;5;241m.\u001b[39m_open_filelike(fileobj, mode, overwrite)\n",
      "File \u001b[0;32m~/opt/anaconda3/envs/mirisim/lib/python3.9/site-packages/astropy/io/fits/file.py:564\u001b[0m, in \u001b[0;36m_File._open_filename\u001b[0;34m(self, filename, mode, overwrite)\u001b[0m\n\u001b[1;32m    561\u001b[0m ext \u001b[38;5;241m=\u001b[39m os\u001b[38;5;241m.\u001b[39mpath\u001b[38;5;241m.\u001b[39msplitext(\u001b[38;5;28mself\u001b[39m\u001b[38;5;241m.\u001b[39mname)[\u001b[38;5;241m1\u001b[39m]\n\u001b[1;32m    563\u001b[0m \u001b[38;5;28;01mif\u001b[39;00m \u001b[38;5;129;01mnot\u001b[39;00m \u001b[38;5;28mself\u001b[39m\u001b[38;5;241m.\u001b[39m_try_read_compressed(\u001b[38;5;28mself\u001b[39m\u001b[38;5;241m.\u001b[39mname, magic, mode, ext\u001b[38;5;241m=\u001b[39mext):\n\u001b[0;32m--> 564\u001b[0m     \u001b[38;5;28mself\u001b[39m\u001b[38;5;241m.\u001b[39m_file \u001b[38;5;241m=\u001b[39m \u001b[43mfileobj_open\u001b[49m\u001b[43m(\u001b[49m\u001b[38;5;28;43mself\u001b[39;49m\u001b[38;5;241;43m.\u001b[39;49m\u001b[43mname\u001b[49m\u001b[43m,\u001b[49m\u001b[43m \u001b[49m\u001b[43mIO_FITS_MODES\u001b[49m\u001b[43m[\u001b[49m\u001b[43mmode\u001b[49m\u001b[43m]\u001b[49m\u001b[43m)\u001b[49m\n\u001b[1;32m    565\u001b[0m     \u001b[38;5;28mself\u001b[39m\u001b[38;5;241m.\u001b[39mclose_on_error \u001b[38;5;241m=\u001b[39m \u001b[38;5;28;01mTrue\u001b[39;00m\n\u001b[1;32m    567\u001b[0m \u001b[38;5;66;03m# Make certain we're back at the beginning of the file\u001b[39;00m\n\u001b[1;32m    568\u001b[0m \u001b[38;5;66;03m# BZ2File does not support seek when the file is open for writing, but\u001b[39;00m\n\u001b[1;32m    569\u001b[0m \u001b[38;5;66;03m# when opening a file for write, bz2.BZ2File always truncates anyway.\u001b[39;00m\n",
      "File \u001b[0;32m~/opt/anaconda3/envs/mirisim/lib/python3.9/site-packages/astropy/io/fits/util.py:390\u001b[0m, in \u001b[0;36mfileobj_open\u001b[0;34m(filename, mode)\u001b[0m\n\u001b[1;32m    380\u001b[0m \u001b[38;5;28;01mdef\u001b[39;00m \u001b[38;5;21mfileobj_open\u001b[39m(filename, mode):\n\u001b[1;32m    381\u001b[0m     \u001b[38;5;124;03m\"\"\"\u001b[39;00m\n\u001b[1;32m    382\u001b[0m \u001b[38;5;124;03m    A wrapper around the `open()` builtin.\u001b[39;00m\n\u001b[1;32m    383\u001b[0m \n\u001b[0;32m   (...)\u001b[0m\n\u001b[1;32m    387\u001b[0m \u001b[38;5;124;03m    a raw random-access file reader.\u001b[39;00m\n\u001b[1;32m    388\u001b[0m \u001b[38;5;124;03m    \"\"\"\u001b[39;00m\n\u001b[0;32m--> 390\u001b[0m     \u001b[38;5;28;01mreturn\u001b[39;00m \u001b[38;5;28;43mopen\u001b[39;49m\u001b[43m(\u001b[49m\u001b[43mfilename\u001b[49m\u001b[43m,\u001b[49m\u001b[43m \u001b[49m\u001b[43mmode\u001b[49m\u001b[43m,\u001b[49m\u001b[43m \u001b[49m\u001b[43mbuffering\u001b[49m\u001b[38;5;241;43m=\u001b[39;49m\u001b[38;5;241;43m0\u001b[39;49m\u001b[43m)\u001b[49m\n",
      "\u001b[0;31mFileNotFoundError\u001b[0m: [Errno 2] No such file or directory: '/Users/niklasviebig/Desktop/Python/JWST_semester_project/trds/grid/bc95/templates/bc95_b_10E6.fits'"
     ]
    }
   ],
   "source": [
    "# create Background emission object\n",
    "Background = skysim.Background(level='low')\n",
    "\n",
    "#initialise the galaxy with a center at (-1,-1) arcsec,\n",
    "# an axial ratio of 2, an effective radius of 0.5 arcsec, etc\n",
    "Gal = skysim.Galaxy(Cen=(-1,-1),n=2,re=0.5,q=0.3,pa=40)\n",
    "\n",
    "#setup line and continuum spectral energy distrubtionsy\n",
    "\n",
    "# setup continuum spectral energy distribution from the \n",
    "# Bruzual & Charlot (1995) models in pysynphot\n",
    "sedGALpysyn = skysim.wrap_pysynphot.PYSPSed(\n",
    "                    family='bc95',sedname='bc95_b_10E6',wref=5.,flux=10.)\n",
    "\n",
    "# attach the merged SED to the galaxy object\n",
    "Gal.set_SED(sedGALpysyn)\n",
    "\n",
    "scene = [Gal]\n",
    "\n",
    "\n",
    "\n",
    "scene_config = SceneConfig.makeScene(loglevel=0,\n",
    "                                    background =  Background,\n",
    "                                    targets = scene)\n",
    "\n",
    "\n",
    "# output the generated scene to a scene.ini file that could also be used as \n",
    "# input to a subsequent MIRISim simulation\n",
    "scene_config.write('FITS_example_scene.ini')"
   ]
  },
  {
   "cell_type": "code",
   "execution_count": null,
   "metadata": {},
   "outputs": [],
   "source": [
    "print(scene)"
   ]
  },
  {
   "cell_type": "markdown",
   "metadata": {},
   "source": [
    "## Creating a generic FITS file output\n",
    "\n",
    "There is the more generalised example where the user would like to see the inputs to the simulation that have been generated by SkySim, regardless of whether they're using the Imager, LRS or MRS.  To do this, SkySim has a separate <code> makecube</code> function.  \n",
    "\n",
    "For this function, the user needs to set the field of view (in arcsec), wavlength coverage range and both the spatial and spectral resolutions. To keep the output FITS file sizes reasonable, two different versions of the required code are presented below - one optimised for the Imager (with a larger field of view, and lower spectral resolution) and one for the MRS (with a smaller field of view and higher spectral resolution)."
   ]
  },
  {
   "cell_type": "code",
   "execution_count": null,
   "metadata": {},
   "outputs": [],
   "source": [
    "##### Imager\n",
    "\n",
    "\n",
    "FOV = np.array([[-57.,57.],[-57.,57.]])   # field of view [xmin,xmax],[ymin,ymax] (in arcsec)\n",
    "SpatialSampling = 0.1               # spatial sampling (in arcsec)\n",
    "WavelengthRange = [5,15]            # wavelength range to process (in microns)\n",
    "WavelengthSampling = 0.5           # channel width (in microns)\n",
    "\n",
    "\n",
    "scene = Gal + Background\n",
    "\n",
    "# overwrite = True enables overwriting of any previous version of the fits file\n",
    "# with the same name as that given in the writecube command\n",
    "scene.writecube(cubefits = 'IMA_example_scene.fits',\n",
    "               FOV = FOV, time = 0.0,\n",
    "               spatsampling = SpatialSampling,\n",
    "               wrange = WavelengthRange,\n",
    "               wsampling = WavelengthSampling,\n",
    "               overwrite = True)  \n",
    "\n",
    "\n",
    "\n",
    "######## MRS\n",
    "\n",
    "FOV = np.array([[-4.,4.],[-4.,4.]])   # field of view [xmin,xmax],[ymin,ymax] (in arcsec)\n",
    "SpatialSampling = 0.1               # spatial sampling (in arcsec)\n",
    "WavelengthRange = [5.2,6.1]            # wavelength range to process (in microns)\n",
    "WavelengthSampling = 0.01           # channel width (in microns)\n",
    "\n",
    "\n",
    "# overwrite = True enables overwriting of any previous version of the fits file\n",
    "# with the same name as that given in the writecube command\n",
    "scene.writecube(cubefits = 'MRS_example_scene.fits',\n",
    "               FOV = FOV, time = 0.0,\n",
    "               spatsampling = SpatialSampling,\n",
    "               wrange = WavelengthRange,\n",
    "               wsampling = WavelengthSampling,\n",
    "               overwrite = True)  \n"
   ]
  },
  {
   "cell_type": "markdown",
   "metadata": {},
   "source": [
    "The FITS files generated above could then subsequently be used as input to MIRISim as specified in a scene.ini file containing the following:\n",
    "\n",
    "<code>\n",
    "[sky]\n",
    "    name       = FITScube               # Name of sky scene\n",
    "    loglevel   = 1                      # 0: no log, 1: single summary, 2: full report\n",
    "\n",
    "[Input FITS]\n",
    "    Type = SkyCube\n",
    "    cubefits = 'XXX_example_scene.fits'\t\t# name of input fits file\n",
    "</code>\n",
    "\n",
    "\n",
    "## Create a FITS cube using the same methods used to produce the MRS skycubes\n",
    "\n",
    "Now that the target scene has been created, we centre the MRS on its coordinates (here given to be  18h, 20deg). There are a number of steps to ensure the telescope is pointing at the right point on the sky:\n",
    "\n",
    "* RA/DEC to centre on\n",
    "* position angle of the observing field\n",
    "* which optical path to follow (i.e. pointing through the centre of a specific MRS channel)\n",
    "* translating those coordinates and optical path into the JWST internal coordinate system (v2,v3), and IFU positioning ($\\alpha$,$\\beta$)\n",
    "\n",
    "\n",
    "the (v2,v3) coordinates are known for a specific MRS channel and sub-band configuration. In this case, because we're only creating a single pointing (e.g. not dithering), we will assume that any offsets in (v2,v3) in these observations are zero."
   ]
  },
  {
   "cell_type": "code",
   "execution_count": null,
   "metadata": {},
   "outputs": [],
   "source": [
    "ra_cen,dec_cen = '18:00:00',\"20:00:00\"\n",
    "pa = 0\n",
    "\n",
    "# MRS channel and sub-band to observe through\n",
    "chan = 1\n",
    "subband = 'SHORT'  # shortest wavelength observations\n",
    "\n",
    "v2v3_ref = obssim.wcs.get_mrs_v2v3_ref(chan,subband)\n",
    "\n",
    "\n",
    "# create pointing object from information above\n",
    "Pointing = obssim.pointing.Pointing(ra_ref = ra_cen, dec_ref = dec_cen, pa = pa, \n",
    "                                    v2v3_off_commanded = (0,0), v2v3_off_actual = (0,0),\n",
    "                                    v2v3_ref = v2v3_ref)"
   ]
  },
  {
   "cell_type": "markdown",
   "metadata": {},
   "source": [
    "With an astronomical scene generated, and the telescope poiting defined, we next create a skycube for the specified channel and subband, and then export it to a FITS file. Note that for specifying the name of the FITS file, the channel and subband names are appended to the end of the given text.  Thus <code>galaxy</code> , in this case, becomes <code>galaxy1SHORT.fits</code>.\n",
    "\n",
    "The <code> overwrite = True </code> option enables overwritting of an existing cube"
   ]
  },
  {
   "cell_type": "code",
   "execution_count": null,
   "metadata": {},
   "outputs": [],
   "source": [
    "SkyCube = obssim.skycube.create_mrs_skycube_from_scene(scene = scene,pointing = Pointing,channel=chan,band=subband)\n",
    "SkyCube.write_to_fits('galaxy',overwrite=True)"
   ]
  },
  {
   "cell_type": "code",
   "execution_count": null,
   "metadata": {},
   "outputs": [],
   "source": []
  },
  {
   "cell_type": "markdown",
   "metadata": {},
   "source": []
  }
 ],
 "metadata": {
  "kernelspec": {
   "display_name": "Python 3 (ipykernel)",
   "language": "python",
   "name": "python3"
  },
  "language_info": {
   "codemirror_mode": {
    "name": "ipython",
    "version": 3
   },
   "file_extension": ".py",
   "mimetype": "text/x-python",
   "name": "python",
   "nbconvert_exporter": "python",
   "pygments_lexer": "ipython3",
   "version": "3.9.7"
  }
 },
 "nbformat": 4,
 "nbformat_minor": 1
}
