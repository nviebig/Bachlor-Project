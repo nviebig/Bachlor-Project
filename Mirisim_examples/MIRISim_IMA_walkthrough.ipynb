{
 "cells": [
  {
   "cell_type": "markdown",
   "metadata": {},
   "source": [
    "#  Appendix: Walk through of MIRISim (Imager)\n",
    "\n",
    "In this notebook, we create a scene with a circle of point sources around a central galaxy (that all fit within the Imager field of view), and run through a MIRISim simulation showing the products created at each stage.\n",
    "\n",
    "**NOTE** this notebook must be started within  the mirisim anaconda environment. This is a pre-requist for using MIRISim, and installation instructions can be found [here](https://wiki.miricle.org/Public/MirisimInstallation).\n",
    "\n",
    "When launching the notebook, make sure you've run the appropriate version of  \n",
    "\n",
    "<code> conda activate mirisim</code> \n",
    "\n",
    "\n",
    "in the terminal before starting the notebook.\n",
    "\n",
    "### Steps in this notebook:\n",
    "\n",
    "1. Create a Scene\n",
    "2. Initialise the simulation parameters\n",
    "3. run the simulation\n",
    "4. examine some of the outputs.\n",
    "\n",
    "  \n",
    "  "
   ]
  },
  {
   "cell_type": "code",
   "execution_count": null,
   "metadata": {},
   "outputs": [],
   "source": []
  },
  {
   "cell_type": "code",
   "execution_count": 9,
   "metadata": {
    "pycharm": {
     "is_executing": true
    }
   },
   "outputs": [],
   "source": [
    "import os\n",
    "\n",
    "location_of_cdbs = \"/Users/niklasviebig/Desktop/Python/JWST_semester_project/trds\"\n",
    "os.environ['PYSYN_CDBS'] = location_of_cdbs\n",
    "# End section\n",
    " \n",
    "# The following section is only needed if the pandeia_refdata environment variable is not already set\n",
    "# The pandeia_refdata environment variable should point to the path of the pandeia reference data\n",
    "location_of_pandeia_refdata = \"/Users/niklasviebig/Desktop/Python/JWST_semester_project/pandeia_data-1.7\"\n",
    "os.environ['pandeia_refdata'] = location_of_pandeia_refdata\n",
    "# import the configuration file parsers so they can be written to file\n",
    "from mirisim.config_parser import SimConfig, SimulatorConfig, SceneConfig\n",
    "\n",
    "# import scene component generators\n",
    "from mirisim.skysim import Background, sed, Point, Galaxy, kinetics\n",
    "from mirisim.skysim import wrap_pysynphot as wS\n",
    "\n",
    "from mirisim import MiriSimulation\n",
    "\n",
    "#other things to be used\n",
    "import numpy as np\n",
    "import glob                 # glob is used to find the output directory\n",
    "import os                   # for listing directory contents\n",
    "from astropy.io import fits # for reading FITS file contents\n",
    "\n",
    "import matplotlib.pyplot as plt    # to display images\n",
    "from matplotlib import colors,cm\n",
    "%matplotlib inline                 "
   ]
  },
  {
   "cell_type": "markdown",
   "metadata": {},
   "source": [
    "## Create a Scene\n",
    "\n",
    "The scene created below consists of a circle of point sources surrounding a Galaxy,and a low level background, all of which fit within the main imager field of view. The point sources all have the same (blackbody) SEDs to make things simple. The galaxy as a pysynphot SED which is modified by a Keplerian velocity field.\n",
    "\n",
    "to be able to simply add the point sources ('stars') to a scene, it first needs to be initialised with a background"
   ]
  },
  {
   "cell_type": "markdown",
   "metadata": {},
   "source": [
    "#### Create the background emission"
   ]
  },
  {
   "cell_type": "code",
   "execution_count": 10,
   "metadata": {},
   "outputs": [
    {
     "name": "stderr",
     "output_type": "stream",
     "text": [
      "2022-04-25 13:13:52,215 - INFO - Initializing Background\n"
     ]
    }
   ],
   "source": [
    "bg = Background(level = 'low', gradient = 5., pa = 45.)\n"
   ]
  },
  {
   "cell_type": "markdown",
   "metadata": {},
   "source": [
    "#### Create a circle of point sources\n",
    "\n",
    "These points will be put into a 'compound target list' for simplicity later. This list needs to be initialised, so the first thing will be to create a single point source, which is placed to fall into the LRS slit.\n"
   ]
  },
  {
   "cell_type": "code",
   "execution_count": 11,
   "metadata": {},
   "outputs": [
    {
     "name": "stderr",
     "output_type": "stream",
     "text": [
      "2022-04-25 13:13:52,240 - INFO - Initializing Point\n",
      "2022-04-25 13:13:52,244 - INFO - Initializing Point\n",
      "2022-04-25 13:13:52,247 - INFO - Initializing Point\n",
      "2022-04-25 13:13:52,249 - INFO - Initializing Point\n",
      "2022-04-25 13:13:52,251 - INFO - Initializing Point\n",
      "2022-04-25 13:13:52,258 - INFO - Initializing Point\n",
      "2022-04-25 13:13:52,266 - INFO - Initializing Point\n",
      "2022-04-25 13:13:52,269 - INFO - Initializing Point\n",
      "2022-04-25 13:13:52,274 - INFO - Initializing Point\n",
      "2022-04-25 13:13:52,287 - INFO - Initializing Point\n",
      "2022-04-25 13:13:52,292 - INFO - Initializing Point\n",
      "2022-04-25 13:13:52,294 - INFO - Initializing Point\n",
      "2022-04-25 13:13:52,295 - INFO - Initializing Point\n",
      "2022-04-25 13:13:52,296 - INFO - Initializing Point\n",
      "2022-04-25 13:13:52,298 - INFO - Initializing Point\n",
      "2022-04-25 13:13:52,299 - INFO - Initializing Point\n",
      "2022-04-25 13:13:52,301 - INFO - Initializing Point\n",
      "2022-04-25 13:13:52,302 - INFO - Initializing Point\n",
      "2022-04-25 13:13:52,304 - INFO - Initializing Point\n",
      "2022-04-25 13:13:52,305 - INFO - Initializing Point\n",
      "2022-04-25 13:13:52,307 - INFO - Initializing Point\n",
      "2022-04-25 13:13:52,308 - INFO - Initializing Point\n"
     ]
    }
   ],
   "source": [
    "# create point source objects across the Imager Field of View\n",
    "def create_star(xpos,ypos):\n",
    "    star = Point(Cen = (xpos,ypos))\n",
    "    BBparams = {'Temp': 1e4,\n",
    "                'wref': 10.,\n",
    "                'flux': 7e5}\n",
    "    Blackbody = sed.BBSed(**BBparams)\n",
    "    star.set_SED(Blackbody)\n",
    "    \n",
    "    return star\n",
    "\n",
    "    \n",
    "# create a single point source at the position of the LRS slit, \n",
    "# and another at the LRS slitless position. The positions of the slit\n",
    "# and slitless targets (in pixels) come from figure 2 of \n",
    "# Kendrew et al. (2015)  (MIRI PASP series #4)\n",
    "\n",
    "center_pixel = (692,512)   # center of the array (in pixel coordinates)\n",
    "slit_pixel = (321,512)     # centering pixel for the slit \n",
    "slitless_pixel = (1,529)   # centering pixel for slitless observations\n",
    "pixel_scale = 0.11         #arcsec/pixel\n",
    "\n",
    "\n",
    "slit_star = create_star(\n",
    "    (center_pixel[0]-slit_pixel[0])*pixel_scale,\n",
    "    (center_pixel[1]-slit_pixel[1])*pixel_scale)\n",
    "slitless_star = create_star(\n",
    "    (center_pixel[0]-slitless_pixel[0])*pixel_scale,\n",
    "    (center_pixel[1]-slitless_pixel[1])*pixel_scale)\n",
    "\n",
    "# add these two stars to the compound target list called 'stars'\n",
    "stars = slit_star + slitless_star\n",
    "# for writing to scene.ini file\n",
    "targetlist = [slit_star,slitless_star]\n",
    "\n",
    "# create a circle of stars, and add them to the scene\n",
    "IMA_radius = 73/2.  # radius of Imager (in arcsec)\n",
    "Nstars = 20         # number of stars to put in the circle\n",
    "for i in range(0,Nstars):\n",
    "    xp = np.cos(2*np.pi/Nstars*i)*IMA_radius\n",
    "    yp = np.sin(2*np.pi/Nstars*i)*IMA_radius\n",
    "    star = create_star(xp,yp)\n",
    "    stars += star              # for creating a scene\n",
    "    targetlist.append(star)    # for writing to file\n",
    "\n"
   ]
  },
  {
   "cell_type": "markdown",
   "metadata": {},
   "source": [
    "#### Create the Galaxy"
   ]
  },
  {
   "cell_type": "code",
   "execution_count": 12,
   "metadata": {},
   "outputs": [
    {
     "name": "stderr",
     "output_type": "stream",
     "text": [
      "2022-04-25 13:13:52,327 - INFO - Initializing Galaxy\n",
      "2022-04-25 13:13:52,329 - INFO - Initializing Galaxy\n",
      "2022-04-25 13:13:52,330 - INFO - Initializing Galaxy\n",
      "2022-04-25 13:13:52,492 - INFO - Initializing FlatDisk\n",
      "2022-04-25 13:13:52,493 - INFO - Initializing Losvd\n"
     ]
    }
   ],
   "source": [
    "\n",
    "# initialise the galaxy with a position\n",
    "galaxy = Galaxy(Cen = (0.,0.),n=1.,re=1.,q=0.4,pa=0)\n",
    "\n",
    "# set the properties of the SED\n",
    "PYSPsedDict = {'family': 'bkmodels', 'sedname': 'bk_b0005', 'flux': 1E+5, 'wref': 10.}\n",
    "# read that dictionary into the pysynphot interpreter\n",
    "sedE = wS.PYSPSed(**PYSPsedDict)\n",
    "# add the SED to the galaxy\n",
    "galaxy.set_SED(sedE)\n",
    "\n",
    "# create a velocity mapping for the SED\n",
    "VMAPpars = {'vrot': 200., 'Cen': (0., 0.), 'pa': 0., 'q': 0.4, 'c': 0}\n",
    "VelocityMap = kinetics.FlatDisk(**VMAPpars)\n",
    "# add the velocity map to the galaxy\n",
    "galaxy.set_velomap(VelocityMap)\n",
    "\n",
    "# add a line of sight velocity distribution to the galaxy\n",
    "losVeloDist = kinetics.Losvd(sigma=200.,h3=0.,h4=0.)\n",
    "galaxy.set_LOSVD(losVeloDist)\n",
    "\n",
    "\n",
    "\n"
   ]
  },
  {
   "cell_type": "markdown",
   "metadata": {},
   "source": [
    "### From the components, create a scene\n",
    "\n",
    "create a scene is as simple as adding together the targets."
   ]
  },
  {
   "cell_type": "code",
   "execution_count": 13,
   "metadata": {},
   "outputs": [],
   "source": [
    "scene = bg + stars + galaxy\n",
    "\n",
    "# for writing to scene.ini file\n",
    "targetlist.append(galaxy)"
   ]
  },
  {
   "cell_type": "markdown",
   "metadata": {},
   "source": [
    "### Export the scene to an ini file and FITS\n",
    "\n",
    "The scene can also be exported to an ini file (for future use), or a FITS file to be visualised.\n",
    "\n",
    "Exporting to a FITS file requires specifing a number of aditional parametrs such as the Field of view, required spectral sampling, etc. They're described in more detail below. For large fields of view, and/or small spectral channels, which create large FITS files, writing to a FITS file can take a while (few minutes)\n",
    "\n",
    "**NOTE**: export to fits currently (8/Feb/2017) doesn't work properly\n",
    "\n"
   ]
  },
  {
   "cell_type": "code",
   "execution_count": null,
   "metadata": {},
   "outputs": [],
   "source": [
    "## export to ini file\n",
    "scene_config = SceneConfig.makeScene(loglevel=0,\n",
    "                                    background=bg,\n",
    "                                    targets = targetlist)\n",
    "\n",
    "os.system('rm IMA_example_scene.ini')\n",
    "scene_config.write('IMA_example_scene.ini')\n",
    "\n",
    "## export to FITS file\n",
    "FOV = np.array([[-57.,57.],[-57.,57.]])   # field of view [xmin,xmax],[ymin,ymax] (in arcsec)\n",
    "SpatialSampling = 0.1               # spatial sampling (in arcsec)\n",
    "WavelengthRange = [5,15]            # wavelength range to process (in microns)\n",
    "WavelengthSampling = 0.5           # channel width (in microns)\n",
    "\n",
    "\n",
    "# overwrite = True enables overwriting of any previous version of the fits file\n",
    "# with the same name as that given in the writecube command\n",
    "scene.writecube(cubefits = 'IMA_example_scene.fits',\n",
    "               FOV = FOV, time = 0.0,\n",
    "               spatsampling = SpatialSampling,\n",
    "               wrange = WavelengthRange,\n",
    "               wsampling = WavelengthSampling,\n",
    "               overwrite = True)   \n",
    "\n",
    "#It's not clear why the point sources are not being written to the FITS file.\n"
   ]
  },
  {
   "cell_type": "markdown",
   "metadata": {
    "collapsed": true
   },
   "source": [
    "## Initialise the Simulation Parameters\n",
    "\n",
    "This is where the parameters for the MRS simulation get set. Note that for internal consistency in MIRISim, all settings (including those not used in the MRS simulation here) must be set. Those not being used in this simulation are labelled with <code> NOT USED HERE </code> in the comments of each line"
   ]
  },
  {
   "cell_type": "code",
   "execution_count": 15,
   "metadata": {},
   "outputs": [],
   "source": [
    "sim_config = SimConfig.makeSim(\n",
    "    name = 'ima_simulation',    # name given to simulation\n",
    "    scene = 'IMA_example_scene.ini', # name of scene file to input\n",
    "    rel_obsdate = 0.0,          # relative observation date (0 = launch, 1 = end of 5 yrs)\n",
    "    POP = 'IMA',                # Component on which to center (Imager or MRS)\n",
    "    ConfigPath = 'IMA_FULL',  # Configure the Optical path (MRS sub-band)\n",
    "    Dither = False,             # Don't Dither\n",
    "    StartInd = 1,               # start index for dither pattern [NOT USED HERE]\n",
    "    NDither = 2,                # number of dither positions [NOT USED HERE]\n",
    "    DitherPat = 'ima_recommended_dither.dat', # dither pattern to use [NOT USED HERE]\n",
    "    disperser = 'SHORT',        # [NOT USED HERE]\n",
    "    detector = 'SW',            # [NOT USED HERE]\n",
    "    mrs_mode = 'SLOW',          # [NOT USED HERE]\n",
    "    mrs_exposures = 2,          # [NOT USED HERE]\n",
    "    mrs_integrations = 3,       # [NOT USED HERE]\n",
    "    mrs_frames = 5,             # [NOT USED HERE]\n",
    "    ima_exposures = 2,          # number of exposures\n",
    "    ima_integrations = 3,       # number of integrations\n",
    "    ima_frames = 5,             # number of groups (for MIRI, # Groups = # Frames)\n",
    "    ima_mode = 'FAST',          # Imager read mode (default is FAST ~ 2.3 s)\n",
    "    filter = 'F1130W',          # Imager Filter to use\n",
    "    readDetect = 'FULL'         # Portion of detector to read out\n",
    ")"
   ]
  },
  {
   "cell_type": "markdown",
   "metadata": {},
   "source": [
    "### Export the simulation setup to a file"
   ]
  },
  {
   "cell_type": "code",
   "execution_count": 16,
   "metadata": {},
   "outputs": [],
   "source": [
    "os.system('rm IMA_simulation.ini')\n",
    "sim_config.write('IMA_simulation.ini')"
   ]
  },
  {
   "cell_type": "markdown",
   "metadata": {},
   "source": [
    "## Run the simulation\n",
    "\n",
    "Now that the scene and the setup of the simulation have been set, we can run the simulation.\n",
    "\n",
    "the last step is to setup the defaults for internal things like CDPs."
   ]
  },
  {
   "cell_type": "code",
   "execution_count": 17,
   "metadata": {
    "scrolled": false
   },
   "outputs": [
    {
     "name": "stderr",
     "output_type": "stream",
     "text": [
      "2022-04-25 13:18:22,744 - INFO - MIRISim version: 2.4.2\n",
      "2022-04-25 13:18:22,755 - INFO - MIRI Simulation started.\n",
      "2022-04-25 13:18:22,766 - INFO - Output will be saved to: 20220425_131822_mirisim\n",
      "2022-04-25 13:18:22,771 - INFO - Storing configs in output directory.\n",
      "2022-04-25 13:18:25,602 - INFO - Reading cosmic ray properties from parameter file /Users/niklasviebig/opt/anaconda3/envs/mirisim/lib/python3.9/site-packages/miri/simulators/scasim/cosmic_ray_properties.py\n",
      "2022-04-25 13:18:25,628 - INFO - Reading detector properties from parameter file /Users/niklasviebig/opt/anaconda3/envs/mirisim/lib/python3.9/site-packages/miri/simulators/scasim/detector_properties.py\n",
      "2022-04-25 13:18:25,827 - INFO - Storing dither pattern in output directory.\n",
      "2022-04-25 13:18:25,836 - WARNING - Environment variable CDP_DIR is not set. Will look up / store CDP files at ./CDP\n",
      "2022-04-25 13:18:25,855 - INFO - Setting up simulated Observation, with following settings:\n",
      "2022-04-25 13:18:25,871 - INFO - Configuration Path: IMA_FULL\n",
      "2022-04-25 13:18:25,873 - INFO - Primary optical path: IMA\n",
      "2022-04-25 13:18:25,903 - INFO - IMA Filter: F1130W\n",
      "2022-04-25 13:18:25,911 - INFO - IMA Subarray: FULL\n",
      "2022-04-25 13:18:25,920 - INFO - IMA detector readout mode: FAST\n",
      "2022-04-25 13:18:25,950 - INFO - IMA detector # exposures: 2\n",
      "2022-04-25 13:18:25,954 - INFO - IMA detector # integrations: 3\n",
      "2022-04-25 13:18:25,962 - INFO - IMA detector # frames: 5\n",
      "2022-04-25 13:18:25,967 - INFO - Parsing: Background\n",
      "2022-04-25 13:18:25,971 - INFO - Initializing Background\n",
      "2022-04-25 13:18:25,976 - INFO - Parsing: point_1\n",
      "2022-04-25 13:18:25,985 - INFO - Initializing Point\n",
      "2022-04-25 13:18:25,998 - INFO - Parsing: point_2\n",
      "2022-04-25 13:18:26,008 - INFO - Initializing Point\n",
      "2022-04-25 13:18:26,013 - INFO - Parsing: point_3\n",
      "2022-04-25 13:18:26,020 - INFO - Initializing Point\n",
      "2022-04-25 13:18:26,025 - INFO - Parsing: point_4\n",
      "2022-04-25 13:18:26,028 - INFO - Initializing Point\n",
      "2022-04-25 13:18:26,031 - INFO - Parsing: point_5\n",
      "2022-04-25 13:18:26,034 - INFO - Initializing Point\n",
      "2022-04-25 13:18:26,036 - INFO - Parsing: point_6\n",
      "2022-04-25 13:18:26,039 - INFO - Initializing Point\n",
      "2022-04-25 13:18:26,041 - INFO - Parsing: point_7\n",
      "2022-04-25 13:18:26,043 - INFO - Initializing Point\n",
      "2022-04-25 13:18:26,047 - INFO - Parsing: point_8\n",
      "2022-04-25 13:18:26,050 - INFO - Initializing Point\n",
      "2022-04-25 13:18:26,054 - INFO - Parsing: point_9\n",
      "2022-04-25 13:18:26,057 - INFO - Initializing Point\n",
      "2022-04-25 13:18:26,060 - INFO - Parsing: point_10\n",
      "2022-04-25 13:18:26,063 - INFO - Initializing Point\n",
      "2022-04-25 13:18:26,065 - INFO - Parsing: point_11\n",
      "2022-04-25 13:18:26,073 - INFO - Initializing Point\n",
      "2022-04-25 13:18:26,077 - INFO - Parsing: point_12\n",
      "2022-04-25 13:18:26,083 - INFO - Initializing Point\n",
      "2022-04-25 13:18:26,089 - INFO - Parsing: point_13\n",
      "2022-04-25 13:18:26,092 - INFO - Initializing Point\n",
      "2022-04-25 13:18:26,097 - INFO - Parsing: point_14\n",
      "2022-04-25 13:18:26,100 - INFO - Initializing Point\n",
      "2022-04-25 13:18:26,109 - INFO - Parsing: point_15\n",
      "2022-04-25 13:18:26,121 - INFO - Initializing Point\n",
      "2022-04-25 13:18:26,123 - INFO - Parsing: point_16\n",
      "2022-04-25 13:18:26,126 - INFO - Initializing Point\n",
      "2022-04-25 13:18:26,129 - INFO - Parsing: point_17\n",
      "2022-04-25 13:18:26,133 - INFO - Initializing Point\n",
      "2022-04-25 13:18:26,136 - INFO - Parsing: point_18\n",
      "2022-04-25 13:18:26,139 - INFO - Initializing Point\n",
      "2022-04-25 13:18:26,141 - INFO - Parsing: point_19\n",
      "2022-04-25 13:18:26,143 - INFO - Initializing Point\n",
      "2022-04-25 13:18:26,146 - INFO - Parsing: point_20\n",
      "2022-04-25 13:18:26,151 - INFO - Initializing Point\n",
      "2022-04-25 13:18:26,159 - INFO - Parsing: point_21\n",
      "2022-04-25 13:18:26,161 - INFO - Initializing Point\n",
      "2022-04-25 13:18:26,164 - INFO - Parsing: point_22\n",
      "2022-04-25 13:18:26,171 - INFO - Initializing Point\n",
      "2022-04-25 13:18:26,175 - INFO - Parsing: galaxy_1\n",
      "2022-04-25 13:18:26,181 - INFO - Initializing Galaxy\n",
      "2022-04-25 13:18:26,186 - INFO - Initializing Galaxy\n",
      "2022-04-25 13:18:26,188 - INFO - Initializing Galaxy\n",
      "2022-04-25 13:18:26,856 - INFO - Initializing FlatDisk\n",
      "2022-04-25 13:18:26,858 - INFO - Initializing Losvd\n",
      "2022-04-25 13:18:26,888 - INFO - Simulating a single pointing.\n",
      "2022-04-25 13:18:29,405 - INFO -  Retrieving CDP file\n",
      "  from sftp 'www.miricle.org/.../MIRI_FM_MIRIMAGE_DISTORTION_07.04.01.fits'\n",
      "  to cache './CDP/MIRI_FM_MIRIMAGE_DISTORTION_07.04.01.fits' ...\n",
      "2022-04-25 13:18:29,836 - INFO - Reading 'DISTORTION' model from './CDP/MIRI_FM_MIRIMAGE_DISTORTION_07.04.01.fits'\n",
      "2022-04-25 13:18:34,196 - INFO - Reading 'DISTORTION' model from './CDP/MIRI_FM_MIRIMAGE_DISTORTION_07.04.01.fits'\n",
      "2022-04-25 13:18:34,595 - INFO - Creating pointing for position 1\n",
      "2022-04-25 13:18:34,597 - INFO - Creating exposure event for position 1\n",
      "2022-04-25 13:18:34,600 - INFO - Reading 'DISTORTION' model from './CDP/MIRI_FM_MIRIMAGE_DISTORTION_07.04.01.fits'\n",
      "2022-04-25 13:18:35,009 - INFO - Reading 'DISTORTION' model from './CDP/MIRI_FM_MIRIMAGE_DISTORTION_07.04.01.fits'\n",
      "2022-04-25 13:18:35,403 - INFO - Observation simulation started.\n",
      "2022-04-25 13:18:35,404 - INFO - Simulating ExposureEvent for pointing 1\n",
      "2022-04-25 13:18:35,406 - INFO - Simulating Imager exposures for pointing 1\n",
      "2022-04-25 13:18:35,407 - INFO - Simulating detector illumination for Imager exposures for pointing 1\n",
      "2022-04-25 13:18:35,409 - INFO - Running ImSim.\n",
      "2022-04-25 13:18:35,411 - INFO - Running MirimImager (version=36) for subarray=FULL\n",
      "2022-04-25 13:18:35,417 - INFO -  Retrieving CDP file\n",
      "  from sftp 'www.miricle.org/.../MIRI_FM_MIRIMAGE_AREA_07.00.00.fits'\n",
      "  to cache './CDP/MIRI_FM_MIRIMAGE_AREA_07.00.00.fits' ...\n",
      "2022-04-25 13:18:38,819 - INFO - Reading 'AREA' model from './CDP/MIRI_FM_MIRIMAGE_AREA_07.00.00.fits'\n",
      "2022-04-25 13:18:39,040 - INFO - Retrieving PCE CDP for filter : F1130W\n",
      "2022-04-25 13:18:39,047 - INFO -  Retrieving CDP file\n",
      "  from sftp 'www.miricle.org/.../MIRI_FM_MIRIMAGE_F1130W_PCE_07.00.00.fits'\n",
      "  to cache './CDP/MIRI_FM_MIRIMAGE_F1130W_PCE_07.00.00.fits' ...\n",
      "2022-04-25 13:18:39,697 - INFO - Reading 'PCE' model from './CDP/MIRI_FM_MIRIMAGE_F1130W_PCE_07.00.00.fits'\n",
      "2022-04-25 13:18:40,088 - INFO -  Retrieving CDP file\n",
      "  from sftp 'www.miricle.org/.../MIRI_FM_MIRIMAGE_F1130W_PSF_07.02.00.fits'\n",
      "  to cache './CDP/MIRI_FM_MIRIMAGE_F1130W_PSF_07.02.00.fits' ...\n",
      "2022-04-25 13:18:42,367 - INFO - Reading 'PSF' model from './CDP/MIRI_FM_MIRIMAGE_F1130W_PSF_07.02.00.fits'\n",
      "2022-04-25 13:18:42,838 - INFO - Reading 'DISTORTION' model from './CDP/MIRI_FM_MIRIMAGE_DISTORTION_07.04.01.fits'\n",
      "2022-04-25 13:18:43,636 - INFO - Processing point sources for IMAGER \n",
      "2022-04-25 13:20:49,378 - INFO - No SkyCube\n",
      "2022-04-25 13:20:49,383 - INFO -  Retrieving CDP file\n",
      "  from sftp 'www.miricle.org/.../MIRI_FM_MIRIMAGE_F1130W_SKYFLAT_07.00.00.fits'\n",
      "  to cache './CDP/MIRI_FM_MIRIMAGE_F1130W_SKYFLAT_07.00.00.fits' ...\n",
      "2022-04-25 13:20:50,438 - INFO - Reading 'SKYFLAT' model from './CDP/MIRI_FM_MIRIMAGE_F1130W_SKYFLAT_07.00.00.fits'\n",
      "2022-04-25 13:20:50,661 - INFO - Apply Footprint\n",
      "2022-04-25 13:20:50,662 - INFO - Retrieving Foot Print from PIXELFLAT\n",
      "2022-04-25 13:20:50,665 - INFO -  Retrieving CDP file\n",
      "  from sftp 'www.miricle.org/.../MIRI_FM_MIRIMAGE_SLOW_F1000W_PIXELFLAT_07.01.01.fits'\n",
      "  to cache './CDP/MIRI_FM_MIRIMAGE_SLOW_F1000W_PIXELFLAT_07.01.01.fits' ...\n",
      "2022-04-25 13:20:51,814 - INFO - Reading 'PIXELFLAT' model from './CDP/MIRI_FM_MIRIMAGE_SLOW_F1000W_PIXELFLAT_07.01.01.fits'\n",
      "2022-04-25 13:20:52,766 - INFO - Wrote illumination model: 20220425_131822_mirisim/illum_models/illum_model_seq1_MIRIMAGE_F1130W.fits\n",
      "2022-04-25 13:20:52,768 - INFO - Simulating integrated detector images for Imager exposures for pointing 1\n",
      "2022-04-25 13:20:52,770 - INFO - Simulating Imager exposure 1\n",
      "2022-04-25 13:20:52,787 - INFO - Running SCASim\n",
      "2022-04-25 13:20:52,789 - INFO - Simulating  detector readout for MIRIMAGE from illumination data model of shape (1, 1024, 1032).\n",
      "2022-04-25 13:20:52,829 - INFO - Results will be returned in an exposure data model.\n",
      "2022-04-25 13:20:52,863 - INFO -   Detector readout mode is FAST (samplesum=1, sampleskip=0, nframe=1, groupgap=0) \n",
      "  with 3 integrations and ngroups=5 defined explicitly.\n",
      "  Detector subarray mode is FULL.\n",
      "2022-04-25 13:20:52,871 - INFO - Detector temperature = 6.70 K (which affects dark current and read noise).\n"
     ]
    },
    {
     "name": "stderr",
     "output_type": "stream",
     "text": [
      "2022-04-25 13:20:52,874 - INFO - Cosmic ray environment is SOLAR_MIN.\n",
      "2022-04-25 13:20:52,908 - INFO - Reading cosmic ray library file: '/Users/niklasviebig/opt/anaconda3/envs/mirisim/lib/python3.9/site-packages/miri/simulators/data/cosmic_rays/CRs_SiAs_470_SUNMIN_02.fits'\n",
      "2022-04-25 13:20:53,054 - INFO - Simulation control flags:\n",
      "\tQuantum efficiency simulation turned OFF.\n",
      "\tPoisson noise simulation turned ON.\n",
      "\tRead noise simulation turned ON.\n",
      "\tReference pixels simulation turned ON.\n",
      "\tBad pixels simulation turned ON.\n",
      "\tDark current simulation turned ON.\n",
      "\tFlat-field simulation turned ON.\n",
      "\tAmplifier bias and gain turned ON.\n",
      "\tDetector non-linearity effects turned ON.\n",
      "\tDetector drift effects turned ON.\n",
      "\tDetector latency effects turned ON.\n",
      "2022-04-25 13:20:53,056 - WARNING - ***Illumination map of size 1024 x 1032 is too large! Truncating to detector size of 1024 x 1024 pixels.\n",
      "2022-04-25 13:20:53,063 - INFO - Input subarray mode obtained from illumination map: FULL\n",
      "2022-04-25 13:20:53,064 - INFO - Detector properties translates input subarray FULL into None\n",
      "2022-04-25 13:20:53,070 - INFO - Creating a new detector object for 1024 rows x 1024 columns.\n",
      "2022-04-25 13:20:53,078 - INFO -  Retrieving CDP file\n",
      "  from sftp 'www.miricle.org/.../MIRI_FM_MIRIMAGE_MASK_07.02.01.fits'\n",
      "  to cache './CDP/MIRI_FM_MIRIMAGE_MASK_07.02.01.fits' ...\n",
      "2022-04-25 13:20:54,948 - INFO - Reading 'MASK' model from './CDP/MIRI_FM_MIRIMAGE_MASK_07.02.01.fits'\n",
      "2022-04-25 13:20:55,119 - INFO -  Retrieving CDP file\n",
      "  from sftp 'www.miricle.org/.../MIRI_FM_MIRIMAGE_GAIN_04.00.00.fits'\n",
      "  to cache './CDP/MIRI_FM_MIRIMAGE_GAIN_04.00.00.fits' ...\n",
      "2022-04-25 13:20:55,798 - INFO - Reading 'GAIN' model from './CDP/MIRI_FM_MIRIMAGE_GAIN_04.00.00.fits'\n",
      "2022-04-25 13:20:59,616 - INFO -  Retrieving CDP file\n",
      "  from sftp 'www.miricle.org/.../MIRI_FM_MIRIMAGE_FAST_DARK_06.01.00.fits'\n",
      "  to cache './CDP/MIRI_FM_MIRIMAGE_FAST_DARK_06.01.00.fits' ...\n",
      "2022-04-25 13:25:37,833 - INFO - Reading DARK model from './CDP/MIRI_FM_MIRIMAGE_FAST_DARK_06.01.00.fits'\n",
      "2022-04-25 13:25:48,522 - INFO -  Retrieving CDP file\n",
      "  from sftp 'www.miricle.org/.../MIRI_FM_MIRIMAGE_FAST_F1130W_PIXELFLAT_07.01.01.fits'\n",
      "  to cache './CDP/MIRI_FM_MIRIMAGE_FAST_F1130W_PIXELFLAT_07.01.01.fits' ...\n",
      "2022-04-25 13:25:50,274 - INFO - Reading 'PIXELFLAT' model from './CDP/MIRI_FM_MIRIMAGE_FAST_F1130W_PIXELFLAT_07.01.01.fits'\n",
      "2022-04-25 13:25:50,643 - INFO -  Retrieving CDP file\n",
      "  from sftp 'www.miricle.org/.../MIRI_FM_MIRIMAGE_LINEARITY_06.02.00.fits'\n",
      "  to cache './CDP/MIRI_FM_MIRIMAGE_LINEARITY_06.02.00.fits' ...\n",
      "2022-04-25 13:25:54,708 - INFO - Reading 'LINEARITY' model from './CDP/MIRI_FM_MIRIMAGE_LINEARITY_06.02.00.fits'\n",
      "2022-04-25 13:25:55,460 - INFO -  Retrieving CDP file\n",
      "  from sftp 'www.miricle.org/.../MIRI_FM_MIRIMAGE_FAST_READNOISE_07.01.00.fits'\n",
      "  to cache './CDP/MIRI_FM_MIRIMAGE_FAST_READNOISE_07.01.00.fits' ...\n",
      "2022-04-25 13:25:56,207 - INFO - Reading 'READNOISE' model from './CDP/MIRI_FM_MIRIMAGE_FAST_READNOISE_07.01.00.fits'\n",
      "2022-04-25 13:25:56,555 - INFO - Creating exposure_data with 1280 rows x 1032 columns plus 5 groups and 3 ints.\n",
      "2022-04-25 13:25:57,598 - INFO - Simulating 3 integrations.\n",
      "2022-04-25 13:25:57,678 - WARNING - ***Input flux array contains values that could saturate at least 163 pixels.\n",
      "   Maximum flux of 232682 photons/s/pixel is greater than first frame saturation level of 127825 photons/s/pixel.\n",
      "2022-04-25 13:25:57,924 - INFO - Simulating 5 groups for integration 1.\n",
      "2022-04-25 13:26:02,119 - INFO - Simulating 5 groups for integration 2.\n",
      "2022-04-25 13:26:05,041 - INFO - Simulating 5 groups for integration 3.\n",
      "2022-04-25 13:26:07,815 - INFO - Adding the DARK calibration from ./CDP/MIRI_FM_MIRIMAGE_FAST_DARK_06.01.00.fits\n",
      "2022-04-25 13:26:08,225 - INFO - Correcting nonlinearity from MIRI_FM_MIRIMAGE_LINEARITY_06.02.00.fits\n",
      "2022-04-25 13:26:09,163 - INFO - Output subarray undefined or FULL. SUBSTRT=(1,1), SUBSIZE=(1032,1024)\n",
      "2022-04-25 13:26:09,164 - INFO - WCS keywords defined as CRPIX1=0, CRPIX2=0\n",
      "2022-04-25 13:26:17,902 - INFO - Exposure time 41.63s (duration 42.68s) \n",
      "2022-04-25 13:26:19,252 - INFO - Wrote detector image: 20220425_131822_mirisim/det_images/det_image_seq1_MIRIMAGE_F1130Wexp1.fits\n",
      "2022-04-25 13:26:19,253 - INFO - Simulating Imager exposure 2\n",
      "2022-04-25 13:26:19,307 - INFO - Running SCASim\n",
      "2022-04-25 13:26:19,309 - INFO - Simulating  detector readout for MIRIMAGE from illumination data model of shape (1, 1024, 1024).\n",
      "2022-04-25 13:26:19,346 - INFO - Results will be returned in an exposure data model.\n",
      "2022-04-25 13:26:19,383 - INFO -   Detector readout mode is FAST (samplesum=1, sampleskip=0, nframe=1, groupgap=0) \n",
      "  with 3 integrations and ngroups=5 defined explicitly.\n",
      "  Detector subarray mode is FULL.\n",
      "2022-04-25 13:26:19,387 - INFO - Detector temperature = 6.70 K (which affects dark current and read noise).\n",
      "2022-04-25 13:26:19,389 - INFO - Cosmic ray environment is SOLAR_MIN. (No change.)\n",
      "2022-04-25 13:26:19,391 - INFO - Simulation control flags:\n",
      "\tQuantum efficiency simulation turned OFF.\n",
      "\tPoisson noise simulation turned ON.\n",
      "\tRead noise simulation turned ON.\n",
      "\tReference pixels simulation turned ON.\n",
      "\tBad pixels simulation turned ON.\n",
      "\tDark current simulation turned ON.\n",
      "\tFlat-field simulation turned ON.\n",
      "\tAmplifier bias and gain turned ON.\n",
      "\tDetector non-linearity effects turned ON.\n",
      "\tDetector drift effects turned ON.\n",
      "\tDetector latency effects turned ON.\n",
      "2022-04-25 13:26:19,393 - INFO - Input subarray mode obtained from illumination map: FULL\n",
      "2022-04-25 13:26:19,395 - INFO - Detector properties translates input subarray FULL into None\n",
      "2022-04-25 13:26:19,400 - INFO - Reading 'MASK' model from './CDP/MIRI_FM_MIRIMAGE_MASK_07.02.01.fits'\n",
      "2022-04-25 13:26:19,640 - INFO - Reading 'GAIN' model from './CDP/MIRI_FM_MIRIMAGE_GAIN_04.00.00.fits'\n",
      "2022-04-25 13:26:19,989 - INFO - Reading DARK model from './CDP/MIRI_FM_MIRIMAGE_FAST_DARK_06.01.00.fits'\n",
      "2022-04-25 13:26:28,392 - INFO - Reading 'PIXELFLAT' model from './CDP/MIRI_FM_MIRIMAGE_FAST_F1130W_PIXELFLAT_07.01.01.fits'\n",
      "2022-04-25 13:26:28,819 - INFO - Reading 'LINEARITY' model from './CDP/MIRI_FM_MIRIMAGE_LINEARITY_06.02.00.fits'\n",
      "2022-04-25 13:26:29,558 - INFO - Reading 'READNOISE' model from './CDP/MIRI_FM_MIRIMAGE_FAST_READNOISE_07.01.00.fits'\n",
      "2022-04-25 13:26:29,774 - INFO - Creating exposure_data with 1280 rows x 1032 columns plus 5 groups and 3 ints.\n",
      "2022-04-25 13:26:30,315 - INFO - Simulating 3 integrations.\n",
      "2022-04-25 13:26:30,354 - WARNING - ***Input flux array contains values that could saturate at least 163 pixels.\n",
      "   Maximum flux of 232682 photons/s/pixel is greater than first frame saturation level of 127825 photons/s/pixel.\n",
      "2022-04-25 13:26:30,545 - INFO - Simulating 5 groups for integration 1.\n",
      "2022-04-25 13:26:33,212 - INFO - Simulating 5 groups for integration 2.\n",
      "2022-04-25 13:26:35,805 - INFO - Simulating 5 groups for integration 3.\n",
      "2022-04-25 13:26:38,305 - INFO - Adding the DARK calibration from ./CDP/MIRI_FM_MIRIMAGE_FAST_DARK_06.01.00.fits\n",
      "2022-04-25 13:26:38,674 - INFO - Correcting nonlinearity from MIRI_FM_MIRIMAGE_LINEARITY_06.02.00.fits\n",
      "2022-04-25 13:26:39,679 - INFO - Output subarray undefined or FULL. SUBSTRT=(1,1), SUBSIZE=(1032,1024)\n",
      "2022-04-25 13:26:39,681 - INFO - WCS keywords defined as CRPIX1=0, CRPIX2=0\n",
      "2022-04-25 13:26:48,180 - INFO - Exposure time 41.63s (duration 42.68s) \n",
      "2022-04-25 13:26:50,008 - INFO - Wrote detector image: 20220425_131822_mirisim/det_images/det_image_seq1_MIRIMAGE_F1130Wexp2.fits\n",
      "2022-04-25 13:26:50,020 - INFO - MIRI Simulation finished. Results have been saved to: 20220425_131822_mirisim\n",
      "\n"
     ]
    }
   ],
   "source": [
    "simulator_config = SimulatorConfig.from_default()\n",
    "\n",
    "\n",
    "mysim = MiriSimulation(sim_config,scene_config,simulator_config)\n",
    "mysim.run()"
   ]
  },
  {
   "cell_type": "markdown",
   "metadata": {},
   "source": [
    "## Examine some of the results\n",
    "\n",
    "Now that the MIRISim simulation has completed, lets examine the results. \n",
    "\n",
    "\n",
    "The first thing to note is that the outputs are placed in a date-labelled directory taking the form  <code> YYYYMMDD_hhmmss_mirisim</code>.  The name of the output directory is given in the last line of the MIRISim log above.  Because the output directory is date-labelled, we can quantify which was the most recent run of MIRISim, and find its output directory using <code>glob.glob</code>"
   ]
  },
  {
   "cell_type": "code",
   "execution_count": 18,
   "metadata": {},
   "outputs": [
    {
     "name": "stdout",
     "output_type": "stream",
     "text": [
      "The subdirectories in the outputdirectory are:\n",
      "['det_images', 'illum_models']\n",
      "The files in the outputdirectory are:\n",
      "['simulator.ini', 'ima_recommended_dither.dat', 'scene.ini', 'simulation.ini', 'mirisim.log']\n"
     ]
    }
   ],
   "source": [
    "outputdir = sorted(glob.glob('*_*_mirisim'),key=os.path.getmtime)[-1]    #[-1] takes the last entry found\n",
    "\n",
    "outputDirContents = os.listdir(outputdir)\n",
    "\n",
    "directories = [name for name in outputDirContents if os.path.isdir(os.path.join(outputdir,name))]\n",
    "files = [name for name in outputDirContents if not os.path.isdir(os.path.join(outputdir,name))]\n",
    "\n",
    "print('The subdirectories in the outputdirectory are:\\n{}'.format(directories))\n",
    "print('The files in the outputdirectory are:\\n{}'.format(files))"
   ]
  },
  {
   "cell_type": "markdown",
   "metadata": {},
   "source": [
    "The files contain the log which was also output to the terminal (<code> mirisim.log</code>) and copies of the .ini files used (or created from python inputs) to create the simulation. These versions of the .ini files can be used to re-create the run of the simulation\n",
    "\n",
    "The directories contain various outputs of MIRISim:\n",
    "\n",
    "* **<code> illum_models </code>** houses FITS images of the illuminations sent to the detector (sent to SCAsim - the simulator of the Sensor Chip Assembly).  This should have the same format as the detector image, but without all of the detector effects and noise. There are FITS files produced for each exposure and dither position\n",
    "* **<code> det_images </code>** houses FITS images of the final outputs of MIRISim. These detector images have all of the detector effects and noise incorporated. The number of detector images should be the same as the number of illumination models. \n",
    "\n",
    "The headers of the detector images are formatted for ingest into the JWST pipeline. \n",
    "\n",
    "For those on the MIRI Test Team, the following link takes you to Patrick Kavanagh's ipython notebook walkthrough of the current build of the JWST pipeline\n",
    "\n",
    "(http://miri.ster.kuleuven.be/bin/view/Internal/TutorialsPipeline)\n",
    "\n",
    "Which is also linked from the MIRISim twiki page.\n",
    "\n",
    "Below is a small code snippet used to draw the images.  it needs to be run, but doesn't produce any output directly (it's called later to show the output images)"
   ]
  },
  {
   "cell_type": "code",
   "execution_count": 19,
   "metadata": {},
   "outputs": [],
   "source": [
    "def show_outputs(MIRISim_outputdir,output_type):\n",
    "    '''\n",
    "    plot the specified channel of the MIRISim outputs\n",
    "    :param MIRISim_outputdir:  \n",
    "        name of the date-labelled dir. holding the MIRISIM outputs\n",
    "    :param output_type: \n",
    "        type of output to process \n",
    "        (e.g. illum_models, det_images or skycubes)\n",
    "    '''\n",
    "    \n",
    "    infits = glob.glob('{}/{}/*.fits'.format(MIRISim_outputdir,output_type))[0]\n",
    "    \n",
    "    hdulist = fits.open(infits)\n",
    "    \n",
    "\n",
    "    hdu_index = 1\n",
    "    if len(hdulist[hdu_index].data.shape) > 3:\n",
    "        integ,frames,nx,ny = hdulist[hdu_index].data.shape\n",
    "        image = hdulist[hdu_index].data[integ-1,frames-1,:,:]\n",
    "        \n",
    "        \n",
    "    else:\n",
    "        image = hdulist[hdu_index].data[0,:,:]\n",
    "              \n",
    "    norm = colors.LogNorm(image.mean() + 0.5 * image.std(), image.max(), clip=True)   \n",
    "    plt.imshow(image,origin = 'lower', cmap = cm.viridis,interpolation = 'nearest',norm = norm)\n",
    "    plt.title('{}'.format(infits.split('/')[-1]))\n",
    "    plt.xlabel(\"'RA' Direction\")\n",
    "    plt.ylabel(\"'DEC' Direction\")\n",
    "\n",
    "\n",
    "    plt.colorbar()\n",
    "\n"
   ]
  },
  {
   "cell_type": "markdown",
   "metadata": {},
   "source": [
    "### Viewing an illumination model\n",
    "\n",
    "Below shows an example of an output illumination model"
   ]
  },
  {
   "cell_type": "code",
   "execution_count": 20,
   "metadata": {},
   "outputs": [
    {
     "data": {
      "image/png": "[encoded data removed]",
      "text/plain": [
       "<Figure size 432x288 with 2 Axes>"
      ]
     },
     "metadata": {
      "needs_background": "light"
     },
     "output_type": "display_data"
    }
   ],
   "source": [
    "show_outputs(outputdir,'illum_models')\n"
   ]
  },
  {
   "cell_type": "markdown",
   "metadata": {},
   "source": [
    "## Viewing the final detector image\n",
    "\n",
    "The detector images are the final output of MIRISim, and have data structures and formatting consistent with what will come from MIRI itself. The data format is JWST pipeline ready.  Below an example image of the last frame of the last integration is shown. The units are <code>DN</code>.\n",
    "\n",
    "Additionally, below the FITS header information for the SCIENCE extension is listed"
   ]
  },
  {
   "cell_type": "code",
   "execution_count": 21,
   "metadata": {},
   "outputs": [
    {
     "data": {
      "text/plain": [
       "XTENSION= 'IMAGE   '           / Image extension                                \n",
       "BITPIX  =                  -32 / array data type                                \n",
       "NAXIS   =                    4 / number of array dimensions                     \n",
       "NAXIS1  =                 1032                                                  \n",
       "NAXIS2  =                 1024                                                  \n",
       "NAXIS3  =                    5                                                  \n",
       "NAXIS4  =                    3                                                  \n",
       "PCOUNT  =                    0 / number of parameters                           \n",
       "GCOUNT  =                    1 / number of groups                               \n",
       "EXTNAME = 'SCI     '           / extension name                                 \n",
       "                                                                                \n",
       "        Information about the coordinates in the file                           \n",
       "                                                                                \n",
       "RADESYS = 'ICRS    '           / Name of the coordinate reference frame         \n",
       "                                                                                \n",
       "        Information about the data array                                        \n",
       "                                                                                \n",
       "BUNIT   = 'DN      '           / Units of the data array                        \n",
       "                                                                                \n",
       "        Spacecraft pointing information                                         \n",
       "                                                                                \n",
       "RA_V1   =   0.1259948156684385 / [deg] RA of telescope V1 axis                  \n",
       "DEC_V1  =   0.1038551438193729 / [deg] Dec of telescope V1 axis                 \n",
       "PA_V3   =                 -0.0 / [deg] Position angle of telescope V3 axis      \n",
       "                                                                                \n",
       "        WCS parameters                                                          \n",
       "                                                                                \n",
       "WCSAXES =                    2 / number of World Coordinate System axes         \n",
       "CRPIX1  =                    0 / axis 1 coordinate of the reference pixel       \n",
       "CRPIX2  =                    0 / axis 2 coordinate of the reference pixel       \n",
       "CRVAL1  =                  0.0 / first axis value at the reference pixel        \n",
       "CRVAL2  =                  0.0 / second axis value at the reference pixel       \n",
       "CTYPE1  = 'RA---TAN'           / first axis coordinate type                     \n",
       "CTYPE2  = 'DEC--TAN'           / second axis coordinate type                    \n",
       "CUNIT1  = 'deg     '           / first axis units                               \n",
       "CUNIT2  = 'deg     '           / second axis units                              \n",
       "CDELT1  = 3.06830555555555E-05 / first axis increment per pixel                 \n",
       "CDELT2  = 3.09669444444444E-05 / second axis increment per pixel                \n",
       "PC1_1   =                 -1.0 / linear transformation matrix element           \n",
       "PC1_2   =                  0.0 / linear transformation matrix element           \n",
       "PC2_1   =                  0.0 / linear transformation matrix element           \n",
       "PC2_2   =                  1.0 / linear transformation matrix element           \n",
       "V2_REF  =   -453.5591160661637 / [arcsec] Telescope v2 coordinate of the referen\n",
       "V3_REF  =   -373.8144468729251 / [arcsec] Telescope v3 coordinate of the referen\n",
       "VPARITY =                   -1 / Relative sense of rotation between Ideal xy and\n",
       "V3I_YANG=               5.0152 / [deg] Angle from V3 axis to Ideal y axis       \n",
       "RA_REF  = 6.17231672631785E-06 / [deg] Right ascension of the reference point   \n",
       "DEC_REF = 1.77974657825706E-05 / [deg] Declination of the reference point       \n",
       "ROLL_REF=                 -0.0 / [deg] V3 roll angle at the ref point (N over E)\n",
       "EXTVER  =                    1 / extension value                                "
      ]
     },
     "execution_count": 21,
     "metadata": {},
     "output_type": "execute_result"
    },
    {
     "data": {
      "image/png": "[encoded data removed]",
      "text/plain": [
       "<Figure size 432x288 with 2 Axes>"
      ]
     },
     "metadata": {
      "needs_background": "light"
     },
     "output_type": "display_data"
    }
   ],
   "source": [
    "show_outputs(outputdir,'det_images')\n",
    "\n",
    "infits = glob.glob('{}/det_images/*.fits'.format(outputdir))[0]\n",
    "hdulist = fits.open(infits)\n",
    "hdulist[1].header"
   ]
  },
  {
   "cell_type": "code",
   "execution_count": null,
   "metadata": {},
   "outputs": [],
   "source": []
  }
 ],
 "metadata": {
  "anaconda-cloud": {},
  "kernelspec": {
   "display_name": "Python 3 (ipykernel)",
   "language": "python",
   "name": "python3"
  },
  "language_info": {
   "codemirror_mode": {
    "name": "ipython",
    "version": 3
   },
   "file_extension": ".py",
   "mimetype": "text/x-python",
   "name": "python",
   "nbconvert_exporter": "python",
   "pygments_lexer": "ipython3",
   "version": "3.9.7"
  },
  "pycharm": {
   "stem_cell": {
    "cell_type": "raw",
    "metadata": {
     "collapsed": false
    },
    "source": []
   }
  }
 },
 "nbformat": 4,
 "nbformat_minor": 1
}
